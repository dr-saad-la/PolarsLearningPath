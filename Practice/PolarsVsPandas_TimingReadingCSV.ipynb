{
 "cells": [
  {
   "cell_type": "markdown",
   "id": "4a699447-f6c2-4385-a32e-4db8f5202d01",
   "metadata": {},
   "source": [
    "<div style=\"text-align:center;font-size:22pt; font-weight:bold;color:white;border:solid black 1.5pt;background-color:#1e7263;\">\n",
    "    Timing Reading Plain Text Data  <br> \n",
    "    Comparison between Pandas & Polars \"Practice\"<br>\n",
    "    \n",
    "</div>"
   ]
  },
  {
   "cell_type": "code",
   "execution_count": 1,
   "id": "c34b1ebb-1849-4b6c-bbd4-a66919a78008",
   "metadata": {},
   "outputs": [],
   "source": [
    "# ============================================================\n",
    "#                                                            =\n",
    "#             Title: Polars Vs Pandas                        =\n",
    "#                 Timing Reading Plain Text Data (Practice)  =\n",
    "#             ---------------------------------              =\n",
    "#                                                            =\n",
    "#             Author: Dr. Saad Laouadi                       =\n",
    "#                                                            =\n",
    "#             Copyright: Dr. Saad Laouadi                    =\n",
    "# ============================================================\n",
    "#                                                            =\n",
    "#                       LICENSE                              =\n",
    "#             ----------------------                         =\n",
    "#                                                            =\n",
    "#             This material is intended for educational      =\n",
    "#             purposes only and may not be used directly in  =\n",
    "#             courses, video recordings, or similar          =\n",
    "#             without prior consent from the author.         =\n",
    "#             When using or referencing this material,       =\n",
    "#             proper credit must be attributed to the        =\n",
    "#             author.                                        =\n",
    "# ============================================================"
   ]
  },
  {
   "cell_type": "code",
   "execution_count": 2,
   "id": "7a9be308-bfec-44e1-b2f6-14187eba305e",
   "metadata": {
    "tags": []
   },
   "outputs": [],
   "source": [
    "# Adds the 'scripts' directory to the Python path\n"
   ]
  },
  {
   "cell_type": "code",
   "execution_count": 3,
   "id": "49da5314-3469-467f-a675-456feb1165c9",
   "metadata": {
    "tags": []
   },
   "outputs": [],
   "source": [
    "# import the working libraries from `importlibs` module\n"
   ]
  },
  {
   "cell_type": "markdown",
   "id": "a0678d4d-d47e-431e-9ebc-e5b57d96872c",
   "metadata": {},
   "source": [
    "### Machine Characteristics\n",
    "\n",
    "Check your machine characterisctics using the `psutil` first. "
   ]
  },
  {
   "cell_type": "code",
   "execution_count": 4,
   "id": "10a45ff3-2ce8-42db-ba96-726c029eb9b5",
   "metadata": {
    "tags": []
   },
   "outputs": [],
   "source": [
    "import psutil\n",
    "\n",
    "# Get CPU information Pysical\n",
    "\n",
    "# Get CPU information All \n",
    "cpu_count_logical = psutil.cpu_count()\n",
    "\n",
    "# Get CPU frequency\n",
    "\n",
    "\n",
    "# Get RAM information\n",
    "\n",
    "\n",
    "# print the information about the CPU\n",
    "\n",
    "\n",
    "# print the total RAM\n",
    "\n",
    "\n",
    "# print the available RAM\n",
    "\n",
    "\n",
    "# print the used RAM\n"
   ]
  },
  {
   "cell_type": "code",
   "execution_count": 5,
   "id": "55150cec-5384-4a9f-9891-5435c1d1fa24",
   "metadata": {
    "tags": []
   },
   "outputs": [],
   "source": [
    "# Set the data paths using Path from pathlib (or `os` module)\n",
    "\n",
    "# set the path for earthquake dataset\n",
    "\n",
    "# set the path for city_temperature dataset\n"
   ]
  },
  {
   "cell_type": "markdown",
   "id": "ecc8226a-fc60-4561-9500-c3664c0c68fe",
   "metadata": {},
   "source": [
    "## Timing Reading Data Using `time` Module"
   ]
  },
  {
   "cell_type": "code",
   "execution_count": 6,
   "id": "92d98b39-5d78-4696-b2db-b07db2f25cee",
   "metadata": {},
   "outputs": [],
   "source": [
    "# Record the start time\n",
    "\n",
    "\n",
    "# Read the CSV file\n",
    "\n",
    "\n",
    "# Record the end time\n",
    "\n",
    "\n",
    "# Calculate the execution time\n",
    "\n",
    "\n",
    "# print the results\n"
   ]
  },
  {
   "cell_type": "markdown",
   "id": "4c1a2621-b4c7-47b4-b33f-99b3b92df3a3",
   "metadata": {},
   "source": [
    "### With Polars"
   ]
  },
  {
   "cell_type": "code",
   "execution_count": 7,
   "id": "848e8393-66a6-4253-954d-8c7b285be65a",
   "metadata": {
    "tags": []
   },
   "outputs": [],
   "source": [
    "# Record the start time\n",
    "\n",
    "\n",
    "# Read the CSV file\n",
    "\n",
    "\n",
    "# Record the end time\n",
    "\n",
    "\n",
    "# Calculate the execution time\n",
    "\n",
    "\n",
    "# print the results\n",
    "\n"
   ]
  },
  {
   "cell_type": "markdown",
   "id": "d349ed64-3839-4b23-b4b7-4d035baaab21",
   "metadata": {},
   "source": [
    "### The Time Difference Polars and Pandas Execution Time\n"
   ]
  },
  {
   "cell_type": "code",
   "execution_count": 8,
   "id": "877009bf-357c-45af-b615-bd761197e51c",
   "metadata": {
    "tags": []
   },
   "outputs": [],
   "source": [
    "# print the execution time difference between pandas and polars \n"
   ]
  },
  {
   "cell_type": "markdown",
   "id": "9330fe29-ca2f-46af-84f9-1bd898022f44",
   "metadata": {},
   "source": [
    "### Using `%%time` Cell Magic Command\n",
    "\n",
    "- Use the `%%time` to time the execution for pandas and polars"
   ]
  },
  {
   "cell_type": "markdown",
   "id": "9e3ad1fe-76ee-45e5-8119-487ffb271eeb",
   "metadata": {},
   "source": [
    "### Pandas "
   ]
  },
  {
   "cell_type": "code",
   "execution_count": 9,
   "id": "0b51932d-42fc-43a5-a9cd-fd6502ccf9a5",
   "metadata": {},
   "outputs": [],
   "source": [
    "# Time the execution for pandas\n"
   ]
  },
  {
   "cell_type": "markdown",
   "id": "6dd66242-700b-486f-9381-4a08f962b8d2",
   "metadata": {
    "tags": []
   },
   "source": [
    "### Polars"
   ]
  },
  {
   "cell_type": "code",
   "execution_count": 10,
   "id": "cd9faae3-5974-45b5-8384-cd5b3c556de3",
   "metadata": {
    "tags": []
   },
   "outputs": [],
   "source": [
    "# Time the execution for polars\n"
   ]
  },
  {
   "cell_type": "markdown",
   "id": "d921d815-ab9f-4b47-b887-20fe68f7f83b",
   "metadata": {},
   "source": [
    "## Using `%%timeit` Magic Command \n",
    "\n",
    "- Now use the `%%timeit` to assess the execution time for both pandas and polars\n",
    "\n",
    "### Pandas"
   ]
  },
  {
   "cell_type": "code",
   "execution_count": 11,
   "id": "b80dfe6d-8b1d-414f-a48d-fdc5ff22edbc",
   "metadata": {},
   "outputs": [],
   "source": [
    "# Time the execution for pandas\n"
   ]
  },
  {
   "cell_type": "markdown",
   "id": "258e026c-388e-4044-851c-e5efad06b2bb",
   "metadata": {},
   "source": [
    "### Polars"
   ]
  },
  {
   "cell_type": "code",
   "execution_count": 12,
   "id": "466a9f0f-53ed-4329-9820-f6a50e98740c",
   "metadata": {
    "tags": []
   },
   "outputs": [],
   "source": [
    "# Time the execution for polars\n"
   ]
  },
  {
   "cell_type": "markdown",
   "id": "f5c13aa9-9aa6-4cce-bb1b-25f7cb1a283c",
   "metadata": {},
   "source": [
    "## Timing Reading Data Larger Dataset\n",
    "\n",
    "- In this section you will assess the execution time while reading a fairly large dataset\n",
    "\n",
    "### Pandas"
   ]
  },
  {
   "cell_type": "code",
   "execution_count": 13,
   "id": "e0a0d22a-77dc-467e-ab94-45047d034728",
   "metadata": {
    "tags": []
   },
   "outputs": [],
   "source": [
    "# Record the start time\n",
    "\n",
    "\n",
    "# Read the CSV file\n",
    "\n",
    "\n",
    "# Record the end time\n",
    "\n",
    "\n",
    "# Calculate the execution time\n",
    "\n",
    "\n",
    "# print the result\n"
   ]
  },
  {
   "cell_type": "markdown",
   "id": "b10025ee-e98d-4fb7-9dba-bd1a4f0d8628",
   "metadata": {},
   "source": [
    "### Polars "
   ]
  },
  {
   "cell_type": "code",
   "execution_count": 14,
   "id": "5557bd03-b50b-443e-a526-235942bfcd0e",
   "metadata": {
    "tags": []
   },
   "outputs": [],
   "source": [
    "# Record the start time\n",
    "\n",
    "\n",
    "# Read the CSV file\n",
    "\n",
    "\n",
    "# Record the end time\n",
    "\n",
    "\n",
    "# Calculate the execution time\n",
    "\n",
    "# Print the result\n",
    "\n"
   ]
  },
  {
   "cell_type": "code",
   "execution_count": 15,
   "id": "5b4c327e-c550-4964-a7e2-888f5581c88e",
   "metadata": {
    "tags": []
   },
   "outputs": [],
   "source": [
    "# Print the difference between pandas time and polars time\n"
   ]
  },
  {
   "cell_type": "markdown",
   "id": "fbadf5db-b698-4daf-b7b7-472cda4bdaf6",
   "metadata": {},
   "source": [
    "## Timing Reading Larger Dataset with `%%time`\n",
    "\n",
    "### Pandas"
   ]
  },
  {
   "cell_type": "code",
   "execution_count": 16,
   "id": "187bf1e1-a92e-43bb-956e-21f4e0d9d37d",
   "metadata": {
    "tags": []
   },
   "outputs": [],
   "source": [
    "# Use %%time with pandas \n",
    "\n"
   ]
  },
  {
   "cell_type": "markdown",
   "id": "0bac5f96-f96f-48e7-9c47-c2d8a6b0b4d1",
   "metadata": {},
   "source": [
    "### Polars "
   ]
  },
  {
   "cell_type": "code",
   "execution_count": 17,
   "id": "9a030b4c-b3e9-4db2-ac3a-3ed928f14980",
   "metadata": {
    "tags": []
   },
   "outputs": [],
   "source": [
    "# use %%time with polars\n"
   ]
  },
  {
   "cell_type": "markdown",
   "id": "5ba56318-1bef-4385-925b-f5e19282f086",
   "metadata": {},
   "source": [
    "## Timing Reading Larger Dataset with `%%timeit`\n",
    "\n",
    "### Pandas"
   ]
  },
  {
   "cell_type": "code",
   "execution_count": 18,
   "id": "823a1954-2cac-46d7-9ffa-6ae5090530bf",
   "metadata": {
    "tags": []
   },
   "outputs": [],
   "source": [
    "# Use %%timeit with pandas\n"
   ]
  },
  {
   "cell_type": "markdown",
   "id": "0ec0dc8d-60bb-4ce4-8ad0-6eecc03a8a7a",
   "metadata": {},
   "source": [
    "### Polars"
   ]
  },
  {
   "cell_type": "code",
   "execution_count": 19,
   "id": "3019d203-e2b5-4301-8040-cd8c6d068783",
   "metadata": {
    "tags": []
   },
   "outputs": [],
   "source": [
    "# use %%time with polars\n"
   ]
  },
  {
   "cell_type": "markdown",
   "id": "3684aef7-51d8-4cb5-8d9e-c7989989720e",
   "metadata": {},
   "source": [
    "## Change the engine to `PyArrow` Engine for Pandas"
   ]
  },
  {
   "cell_type": "code",
   "execution_count": 20,
   "id": "21950160-047a-44b5-aa89-f1b10b313360",
   "metadata": {
    "tags": []
   },
   "outputs": [],
   "source": [
    "# Change the engine to pyarrow and use %%timeit\n",
    "\n"
   ]
  },
  {
   "cell_type": "markdown",
   "id": "52601484-4e8f-447a-9df6-ca3dca3561d9",
   "metadata": {},
   "source": [
    "### Changing the Number of Threads for Polars\n",
    "\n",
    "- Write a full loop to assess the execution time based on the number of threads available in your machine"
   ]
  },
  {
   "cell_type": "code",
   "execution_count": 21,
   "id": "1006a187-1bd7-4ae2-bbf3-cd72ef323718",
   "metadata": {
    "tags": []
   },
   "outputs": [],
   "source": [
    "# write the for loop here, uncomment the first line \n",
    "#for n_thread in range(1, cpu_count+1):\n",
    "    # write the rest of the code \n",
    "    "
   ]
  },
  {
   "cell_type": "markdown",
   "id": "25b3505a-4ea4-478d-af9c-d1d6f4b2a33f",
   "metadata": {},
   "source": [
    "## Challenge\n",
    "\n",
    "1. Explain how `%time` works\n",
    "2. Explain how `%timeit` works"
   ]
  },
  {
   "cell_type": "code",
   "execution_count": null,
   "id": "4cab0f04-a854-42c1-b8d2-2a42218c9beb",
   "metadata": {},
   "outputs": [],
   "source": []
  }
 ],
 "metadata": {
  "kernelspec": {
   "display_name": "PolarsEnv",
   "language": "python",
   "name": "plenv"
  },
  "language_info": {
   "codemirror_mode": {
    "name": "ipython",
    "version": 3
   },
   "file_extension": ".py",
   "mimetype": "text/x-python",
   "name": "python",
   "nbconvert_exporter": "python",
   "pygments_lexer": "ipython3",
   "version": "3.12.1"
  }
 },
 "nbformat": 4,
 "nbformat_minor": 5
}
