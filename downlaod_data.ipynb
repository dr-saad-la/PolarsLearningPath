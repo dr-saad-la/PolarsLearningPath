{
 "cells": [
  {
   "cell_type": "code",
   "execution_count": null,
   "id": "af296a96-646c-4470-9ada-898dc51b5663",
   "metadata": {},
   "outputs": [],
   "source": []
  },
  {
   "cell_type": "code",
   "execution_count": 2,
   "id": "4d0dec6e-88f8-4cbc-bb96-177f5b93e342",
   "metadata": {
    "tags": []
   },
   "outputs": [],
   "source": [
    "import os\n",
    "import sys\n",
    "import time \n",
    "from pathlib import Path\n",
    "\n",
    "# import the function that downlaods data from a URL \n",
    "from scripts.download_datasets import download_zipped_csv_data\n",
    "\n",
    "# global variables\n",
    "DATASET_ROOT_URL = \"https://github.com/qcversity/Polars-Learning-Path/raw/main/datasets\"\n",
    "CITY_TEMPERATURE = \"city_temperature.csv.zip\"\n",
    "EARTHQUAKE = \"earthquake.csv.zip\""
   ]
  },
  {
   "cell_type": "code",
   "execution_count": 3,
   "id": "a3277382-ef18-42ff-a223-0f056a18b42b",
   "metadata": {
    "tags": []
   },
   "outputs": [
    {
     "name": "stdout",
     "output_type": "stream",
     "text": [
      "Downloading city_temperature.csv.zip...\n",
      "Extracted to /Users/daas/DataScienceWithPythonPath/PolarsLearningPath/datasets\n"
     ]
    }
   ],
   "source": [
    "# download the temperature dataset\n",
    "download_zipped_csv_data(DATASET_ROOT_URL, CITY_TEMPERATURE,\n",
    "                         verbose=True)"
   ]
  },
  {
   "cell_type": "code",
   "execution_count": 4,
   "id": "8ad200ea-74da-4505-aa43-02991882a794",
   "metadata": {
    "tags": []
   },
   "outputs": [
    {
     "name": "stdout",
     "output_type": "stream",
     "text": [
      "Downloading earthquake.csv.zip...\n",
      "Extracted to /Users/daas/DataScienceWithPythonPath/PolarsLearningPath/datasets\n"
     ]
    }
   ],
   "source": [
    "# download the earthquake dataset\n",
    "download_zipped_csv_data(DATASET_ROOT_URL, EARTHQUAKE, verbose=True)"
   ]
  },
  {
   "cell_type": "code",
   "execution_count": null,
   "id": "f0e7ff78-5f0a-4399-a53d-4f819018e3db",
   "metadata": {},
   "outputs": [],
   "source": []
  }
 ],
 "metadata": {
  "kernelspec": {
   "display_name": "PolarsEnv",
   "language": "python",
   "name": "plenv"
  },
  "language_info": {
   "codemirror_mode": {
    "name": "ipython",
    "version": 3
   },
   "file_extension": ".py",
   "mimetype": "text/x-python",
   "name": "python",
   "nbconvert_exporter": "python",
   "pygments_lexer": "ipython3",
   "version": "3.12.1"
  }
 },
 "nbformat": 4,
 "nbformat_minor": 5
}
