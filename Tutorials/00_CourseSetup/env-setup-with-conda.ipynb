{
 "cells": [
  {
   "cell_type": "markdown",
   "id": "5ab42ee9-8b16-409a-9b13-af7300a49467",
   "metadata": {},
   "source": [
    "<div style=\"text-align:center;font-size:22pt; font-weight:bold;color:white;border:solid black 1.5pt;background-color:#1e7263;\">\n",
    "    Polars Learning Path: Environment Setup \n",
    "</div>"
   ]
  },
  {
   "cell_type": "code",
   "execution_count": 1,
   "id": "b2d9464c-51b0-4e1b-a074-98af1e84d3e3",
   "metadata": {},
   "outputs": [],
   "source": [
    "# ============================================================================\n",
    "#                                                                            =\n",
    "#             Title: Environment Setup with Conda                            =\n",
    "#             -----------------------------------                            =\n",
    "#                                                                            =\n",
    "#             Author: Dr. Saad Laouadi                                       =\n",
    "#                                                                            =\n",
    "#             Copyright: Dr. Saad Laouadi                                    =\n",
    "# ============================================================================\n",
    "#                                                                            =\n",
    "#                       LICENSE                                              =\n",
    "#             --------------------------------------------                   =\n",
    "#                                                                            =\n",
    "#             This material is intended for educational                      =\n",
    "#             purposes only and may not be used directly in                  =\n",
    "#             courses, video recordings, or similar                          =\n",
    "#             without prior consent from the author.                         =\n",
    "#             When using or referencing this material,                       =\n",
    "#             proper credit must be attributed to the                        = \n",
    "#             author.                                                        =\n",
    "# ============================================================================"
   ]
  },
  {
   "cell_type": "markdown",
   "id": "9e44b8cc-130f-4fd8-9e1f-2db87f639b59",
   "metadata": {},
   "source": [
    "## Table of Contents"
   ]
  },
  {
   "cell_type": "markdown",
   "id": "4cd6880d-06e0-4dfb-ba5b-591dbd402176",
   "metadata": {},
   "source": [
    "## Objectives\n"
   ]
  },
  {
   "cell_type": "markdown",
   "id": "396e4ef8-a337-4004-9e3a-c1efab14f955",
   "metadata": {},
   "source": [
    "## Setup Steps Using `Conda` Package Manager\n",
    "\n",
    "### Mac OS\n",
    "\n",
    "1. **Install Homebrew**: If you haven’t installed Homebrew, you can do so by running the following command in your terminal:\n",
    "\n",
    "   ```sh\n",
    "   /bin/bash -c \"$(curl -fsSL https://raw.githubusercontent.com/Homebrew/install/HEAD/install.sh)\"\n",
    "   ```\n",
    "\n",
    "2. **Install Miniforge**: Miniforge is a minimal conda installer that is compatible with M3 Macs.\n",
    "\n",
    "\n",
    "   ```sh\n",
    "   brew install --cask miniforge\n",
    "   ```\n",
    "\n",
    "If you prefer to use the graphical installer of **Miniforge**, you can download it for here [link](https://conda-forge.org/download/)\n",
    "\n",
    "4. **Create a Conda Environment**: Create a conda environment for  using the `mamba` package manager:\n",
    "\n",
    "    ```sh\n",
    "    mamba create --name plenv python=3.12 --yes\n",
    "    ```\n",
    "    \n",
    "5. **Activate the newly created environment**:\n",
    "\n",
    "   ```sh\n",
    "   mamba activate plenv\n",
    "   ```\n",
    "\n",
    "6. **Install the latest version of Pytorch**:  The next command will install only **polars**\n",
    "\n",
    "   ```sh\n",
    "   mamba install polars --yes\n",
    "   ```\n",
    "   \n",
    "7. **Check the Installation**: After the installation has finished, you may wan to check what just happened by listing the installed packages in the newly created environment using the next command:\n",
    "\n",
    "   ```sh\n",
    "   mamba list\n",
    "   ```\n",
    "\n",
    "This command will list all the installed packages and the dependencies. Or may just want to check the version of the installed polars like this: \n",
    "\n",
    "   ```sh\n",
    "   mamba list | grep -E 'polars'\n",
    "   ```\n",
    "\n",
    "You may also wish to check other information, to do that run the next command:\n",
    "\n",
    "   ```sh\n",
    "   mamba info\n",
    "   ```\n",
    "\n",
    "## Installing Using `pip`\n",
    "\n",
    "Based on `polars` developers, the preferred way to install `polars` or `polars` with all or some of its depencies is to use `pip` (`pip3`) [check here](https://pypi.org/project/polars/)\n",
    "\n",
    "1. **Installing polars** with `pip`: If you need only `polars` library, after activating the environment (created with conda or venv or other tool), you can do that by running the next command from the a command line application:\n",
    "   ```sh\n",
    "   pip install polars\n",
    "   ```\n",
    "2. **Installing polars** with all optional dependencies: You may opt to install all polars dependencies like this:\n",
    "   ```sh\n",
    "   pip install 'polars[all]'\n",
    "   ```\n",
    "   \n",
    "4. **Installing polars** with some optional dependencies: Or may want to install only what few of polars optional dependencies based on your needs, for example numpy and and pandas:\n",
    "   ```sh\n",
    "   pip install 'polars[numpy, pandas]'\n",
    "   ```\n",
    "\n",
    "## Checking Installed Versions\n",
    "\n",
    "To chech the current Polars version and a full list of its optional dependencies, run:\n",
    "   ```sh\n",
    "   import polars as pl\n",
    "   pl.show_versions()\n",
    "   ```\n",
    "\n",
    "## Optional\n",
    "\n",
    "If you are a data scientist, and prefer to use Jupyter notebooks, you may proceed with section, otherwise you may skip this section. \n",
    "\n",
    "### JupyterLab Setup \n",
    "\n",
    "1. **Install JupyterLab web-based application**:\n",
    "\n",
    "   ```sh\n",
    "   python3 -m pip install jupyterlab\n",
    "   ```\n",
    "\n",
    "2. **Install JupyterLab Desktop application**: Alternatively, you can install the JupyterLab desktop application (if you don't already have that):\n",
    "\n",
    "    \n",
    "    ```sh\n",
    "    brew install --cask jupyterlab\n",
    "    ```\n",
    "    \n",
    "3. **Register the kernel to be available for JupyterLab**:\n",
    "\n",
    "    ```sh\n",
    "    mamba install ipykernel --yes\n",
    "    ipython kernel install --user --name=plenv --display-name \"Polars Env\"\n",
    "    ```\n",
    "    \n",
    "## Test the Environment\n",
    "\n",
    "1. **Create a working directory for a new project**:\n",
    "\n",
    "    ```sh\n",
    "    mkdir test-project && cd test-project\n",
    "    ```\n",
    "    \n",
    "2. **Open JupyterLab**:\n",
    "\n",
    "- Web-based:\n",
    "\n",
    "   ```sh\n",
    "   jupyter lab .\n",
    "   ```\n",
    "\n",
    "- Desktop JupyterLab:\n",
    "\n",
    "   ```sh\n",
    "   open -a JupyterLab . \n",
    "   ```\n",
    "\n",
    "### Windows\n",
    "\n",
    "\n",
    "\n",
    "### Linux "
   ]
  },
  {
   "cell_type": "code",
   "execution_count": 1,
   "id": "079b0ef1-3c8b-490d-802d-4055309db7e8",
   "metadata": {},
   "outputs": [],
   "source": [
    "import polars as pl"
   ]
  },
  {
   "cell_type": "code",
   "execution_count": 2,
   "id": "8ea2f603-fbe0-4c48-b98a-4d3d000cfd4a",
   "metadata": {},
   "outputs": [
    {
     "name": "stdout",
     "output_type": "stream",
     "text": [
      "0.14.28\n"
     ]
    }
   ],
   "source": [
    "# Check polars version\n",
    "print(pl.__version__)"
   ]
  },
  {
   "cell_type": "code",
   "execution_count": 4,
   "id": "1d2c0297-4429-4dc0-a55f-8e9adf2b6b73",
   "metadata": {},
   "outputs": [
    {
     "name": "stdout",
     "output_type": "stream",
     "text": [
      "---Version info---\n",
      "Polars: 0.14.28\n",
      "Index type: UInt32\n",
      "Platform: macOS-14.5-arm64-arm-64bit\n",
      "Python: 3.11.0 | packaged by conda-forge | (main, Oct 25 2022, 06:21:25) [Clang 14.0.4 ]\n",
      "---Optional dependencies---\n",
      "pyarrow: 17.0.0\n",
      "pandas: 2.2.2\n",
      "numpy: 1.23.4\n",
      "fsspec: 2024.6.1\n",
      "connectorx: 0.3.3\n",
      "xlsx2csv: 0.8.3\n",
      "matplotlib: 3.9.2\n"
     ]
    }
   ],
   "source": [
    "# Check polars and its dependencies versions\n",
    "pl.show_versions()"
   ]
  },
  {
   "cell_type": "markdown",
   "id": "18bedf3d-80f2-4e9d-a47c-9310f49cd035",
   "metadata": {},
   "source": [
    "## References\n",
    "1. [Polars feedstock github](https://github.com/conda-forge/polars-feedstock)\n",
    "2. [Polars PyPI](https://pypi.org/project/polars/)"
   ]
  },
  {
   "cell_type": "code",
   "execution_count": null,
   "id": "0a9ac024-fea8-4f2c-8fb1-515afd8ffdd1",
   "metadata": {},
   "outputs": [],
   "source": []
  }
 ],
 "metadata": {
  "kernelspec": {
   "display_name": "Polars Env",
   "language": "python",
   "name": "plenv"
  },
  "language_info": {
   "codemirror_mode": {
    "name": "ipython",
    "version": 3
   },
   "file_extension": ".py",
   "mimetype": "text/x-python",
   "name": "python",
   "nbconvert_exporter": "python",
   "pygments_lexer": "ipython3",
   "version": "3.11.0"
  }
 },
 "nbformat": 4,
 "nbformat_minor": 5
}
