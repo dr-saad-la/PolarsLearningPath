{
 "cells": [
  {
   "cell_type": "markdown",
   "id": "81bdbb95-7e4c-4765-a561-f5986649bc1a",
   "metadata": {},
   "source": [
    "<div style=\"text-align:center;font-size:22pt; font-weight:bold;color:white;border:solid black 1.5pt;background-color:#1e7263;\">\n",
    "    Reading Comma Separated Value Data (CSV)\n",
    "</div>"
   ]
  },
  {
   "cell_type": "code",
   "execution_count": 1,
   "id": "5872f8e1-6c34-4bbc-a4ff-4557424d3afd",
   "metadata": {
    "tags": []
   },
   "outputs": [],
   "source": [
    "# ============================================================\n",
    "#                                                            =\n",
    "#             Title: Reading CSV Data with Polars            =\n",
    "#             ---------------------------------              =\n",
    "#                                                            =\n",
    "#             Author: Dr. Saad Laouadi                       =\n",
    "#                                                            =\n",
    "#             Copyright: Dr. Saad Laouadi                    =\n",
    "# ============================================================\n",
    "#                                                            =\n",
    "#                       LICENSE                              =\n",
    "#             ----------------------                         =\n",
    "#                                                            =\n",
    "#             This material is intended for educational      =\n",
    "#             purposes only and may not be used directly in  =\n",
    "#             courses, video recordings, or similar          =\n",
    "#             without prior consent from the author.         =\n",
    "#             When using or referencing this material,       =\n",
    "#             proper credit must be attributed to the        =\n",
    "#             author.                                        =\n",
    "# ============================================================"
   ]
  },
  {
   "cell_type": "code",
   "execution_count": 2,
   "id": "030a2ad2-df5b-4812-bca5-c9f7cdf96540",
   "metadata": {
    "tags": []
   },
   "outputs": [
    {
     "name": "stdout",
     "output_type": "stream",
     "text": [
      "******************************************\n",
      "          The imported libs are:          \n",
      "******************************************\n",
      "polars version is :     0.20.2\n",
      "pandas version is :      2.1.4\n",
      "numpy version is  :     1.26.2\n",
      "pyarrow version is:     14.0.2\n",
      "******************************************\n",
      "The imported builtin modules are:\n",
      "['os', 'sys', 'pathlib', 'time', 'shutil', 're']\n",
      "**************************************************************\n",
      "The python executable path is:\n",
      " /usr/local/Caskroom/mambaforge/base/envs/plenv/bin/python3.12\n",
      "**************************************************************\n",
      "Important Reminder:\n",
      "Before proceeding, please ensure that you have activated the appropriate virtual environment for this project.\n",
      "This step is crucial to maintain consistent dependencies and project settings.\n"
     ]
    }
   ],
   "source": [
    "# Environment Setup\n",
    "import sys\n",
    "sys.path.append('../../scripts/')  \n",
    "\n",
    "# import the working libraries\n",
    "from importlibs import *"
   ]
  },
  {
   "cell_type": "markdown",
   "id": "c3381f7e-943c-4390-8c18-cb35be14b9c6",
   "metadata": {},
   "source": [
    "### The `pl.read_csv()` Method\n",
    "\n",
    "The `read_csv` method in the Polars library is used for reading Comma-Separated Values (CSV) files into a DataFrame. It's a versatile function with several arguments that allow you to handle various aspects of CSV data loading. Here are some of the main arguments of the read_csv method in Polars:\n",
    "\n",
    "1. **file:**\n",
    "    - Type: str or file-like object\n",
    "    - Description: The filepath or URL to the CSV file, or any object with a read() method (like a file handle).\n",
    "Example: \"data.csv\" or open(\"data.csv\")\n",
    "2. **sep:**\n",
    "    - Type: str, default is ','\n",
    "    - Description: The delimiter to use for separating values. By default, it's a comma, but it can be set to any character.\n",
    "```python\n",
    "Example: sep='\\t' for tab-separated values\n",
    "```\n",
    "\n",
    "3. **has_header:**\n",
    "    - Type: bool, default is True\n",
    "    - Description: Indicates if the first row of the CSV file contains column headers. If False, columns will be unnamed and indexed numerically.\n",
    "\n",
    "```python\n",
    "Example: has_header=False\n",
    "```\n",
    "\n",
    "4. **columns:**\n",
    "    - Type: Optional[List[str]]\n",
    "    - Description: A list of column names to select from the CSV. If not specified, all columns are read.\n",
    "\n",
    "```python\n",
    "Example: columns=['col1', 'col2']\n",
    "```\n",
    "\n",
    "5. **dtype:**\n",
    "    - Type: Optional[Dict[str, DataType]] or DataType\n",
    "    - Description: A dictionary mapping column names to Polars DataTypes, or a single DataType to apply to all columns. Used to explicitly set the data type of columns.\n",
    "\n",
    "```python\n",
    "Example: dtype={'col1': pl.Int32, 'col2': pl.Float64}\n",
    "```\n",
    "\n",
    "6. **null_values:**\n",
    "    - Type: Optional[str, List[str]]\n",
    "    - Description: Values to interpret as missing/NA. It can be a single string or a list of strings.\n",
    "\n",
    "```python\n",
    "Example: null_values=\"NA\"\n",
    "```\n",
    "\n",
    "7. **skip_rows:**\n",
    "    - Type: int, default is 0\n",
    "    - Description: Number of rows to skip at the start of the file.\n",
    "\n",
    "```python\n",
    "Example: skip_rows=1\n",
    "```\n",
    "\n",
    "8. **n_rows:**\n",
    "    - Type: Optional[int]\n",
    "    - Description: Number of rows to read. Useful for reading chunks of large files.\n",
    "\n",
    "```python\n",
    "Example: n_rows=100\n",
    "```\n",
    "\n",
    "9. **encoding:**\n",
    "    - Type: str, default is 'utf8'\n",
    "    - Description: The character encoding of the file.\n",
    "\n",
    "```python\n",
    "Example: encoding='latin1'\n",
    "```\n",
    "\n",
    "10. **low_memory:**\n",
    "    - Type: bool, default is False\n",
    "    - Description: Tries to reduce memory usage at the cost of performance.\n",
    "\n",
    "```python\n",
    "Example: low_memory=True\n",
    "```\n",
    "\n",
    "- These arguments provide flexibility in handling various scenarios encountered while working with CSV data, such as different file formats, missing values, and specific data types. It's worth noting that the default settings of read_csv work well for standard CSV files, but these arguments can be adjusted for more complex data structures or specific requirements."
   ]
  },
  {
   "cell_type": "code",
   "execution_count": 2,
   "id": "f07f6486-1b85-44cf-82df-24fdad8aa38d",
   "metadata": {
    "tags": []
   },
   "outputs": [],
   "source": [
    "# print(help(pl.DataFrame))"
   ]
  },
  {
   "cell_type": "code",
   "execution_count": 3,
   "id": "8b836a89-7785-4000-9d9d-15957e5a79f2",
   "metadata": {
    "tags": []
   },
   "outputs": [
    {
     "data": {
      "text/plain": [
       "polars.dataframe.frame.DataFrame"
      ]
     },
     "execution_count": 3,
     "metadata": {},
     "output_type": "execute_result"
    }
   ],
   "source": [
    "pl.DataFrame"
   ]
  },
  {
   "cell_type": "code",
   "execution_count": 4,
   "id": "1453320e-76af-430c-8c45-bf2c6c226e96",
   "metadata": {
    "tags": []
   },
   "outputs": [],
   "source": [
    "df = pl.DataFrame()"
   ]
  },
  {
   "cell_type": "code",
   "execution_count": 5,
   "id": "ccc64e51-ce5f-4191-a0ae-55a450fd316a",
   "metadata": {
    "tags": []
   },
   "outputs": [
    {
     "name": "stdout",
     "output_type": "stream",
     "text": [
      "apply\n",
      "approx_n_unique\n",
      "bottom_k\n",
      "cast\n",
      "clear\n",
      "clone\n",
      "columns\n",
      "corr\n",
      "describe\n",
      "drop\n",
      "drop_in_place\n",
      "drop_nulls\n",
      "dtypes\n",
      "equals\n",
      "estimated_size\n",
      "explode\n",
      "extend\n",
      "fill_nan\n",
      "fill_null\n",
      "filter\n",
      "find_idx_by_name\n",
      "flags\n",
      "fold\n",
      "frame_equal\n",
      "gather_every\n",
      "get_column\n",
      "get_column_index\n",
      "get_columns\n",
      "glimpse\n",
      "group_by\n",
      "group_by_dynamic\n",
      "group_by_rolling\n",
      "groupby\n",
      "groupby_dynamic\n",
      "groupby_rolling\n",
      "hash_rows\n",
      "head\n",
      "height\n",
      "hstack\n",
      "insert_at_idx\n",
      "insert_column\n",
      "interpolate\n",
      "is_duplicated\n",
      "is_empty\n",
      "is_unique\n",
      "item\n",
      "iter_columns\n",
      "iter_rows\n",
      "iter_slices\n",
      "join\n",
      "join_asof\n",
      "lazy\n",
      "limit\n",
      "map_rows\n",
      "max\n",
      "max_horizontal\n",
      "mean\n",
      "mean_horizontal\n",
      "median\n",
      "melt\n",
      "merge_sorted\n",
      "min\n",
      "min_horizontal\n",
      "n_chunks\n",
      "n_unique\n",
      "null_count\n",
      "partition_by\n",
      "pipe\n",
      "pivot\n",
      "product\n",
      "quantile\n",
      "rechunk\n",
      "rename\n",
      "replace\n",
      "replace_at_idx\n",
      "replace_column\n",
      "reverse\n",
      "rolling\n",
      "row\n",
      "rows\n",
      "rows_by_key\n",
      "sample\n",
      "schema\n",
      "select\n",
      "select_seq\n",
      "set_sorted\n",
      "shape\n",
      "shift\n",
      "shift_and_fill\n",
      "shrink_to_fit\n",
      "slice\n",
      "sort\n",
      "std\n",
      "sum\n",
      "sum_horizontal\n",
      "tail\n",
      "take_every\n",
      "to_arrow\n",
      "to_dict\n",
      "to_dicts\n",
      "to_dummies\n",
      "to_init_repr\n",
      "to_numpy\n",
      "to_pandas\n",
      "to_series\n",
      "to_struct\n",
      "top_k\n",
      "transpose\n",
      "unique\n",
      "unnest\n",
      "unstack\n",
      "update\n",
      "upsample\n",
      "var\n",
      "vstack\n",
      "width\n",
      "with_columns\n",
      "with_columns_seq\n",
      "with_row_count\n",
      "write_avro\n",
      "write_csv\n",
      "write_database\n",
      "write_delta\n",
      "write_excel\n",
      "write_ipc\n",
      "write_ipc_stream\n",
      "write_json\n",
      "write_ndjson\n",
      "write_parquet\n"
     ]
    }
   ],
   "source": [
    "for meth in dir(df):\n",
    "    if not meth.startswith('_'):\n",
    "        print(meth)"
   ]
  },
  {
   "cell_type": "code",
   "execution_count": 6,
   "id": "a9bc5201-e6e5-4bb2-84d5-78e4e50fac9b",
   "metadata": {
    "tags": []
   },
   "outputs": [
    {
     "name": "stdout",
     "output_type": "stream",
     "text": [
      "Array\n",
      "ArrowError\n",
      "Binary\n",
      "Boolean\n",
      "Categorical\n",
      "CategoricalRemappingWarning\n",
      "ChronoFormatWarning\n",
      "ColumnNotFoundError\n",
      "ComputeError\n",
      "Config\n",
      "DATETIME_DTYPES\n",
      "DURATION_DTYPES\n",
      "DataFrame\n",
      "DataType\n",
      "Date\n",
      "Datetime\n",
      "Decimal\n",
      "DuplicateError\n",
      "Duration\n",
      "Enum\n",
      "Expr\n",
      "FLOAT_DTYPES\n",
      "Field\n",
      "Float32\n",
      "Float64\n",
      "INTEGER_DTYPES\n",
      "Int16\n",
      "Int32\n",
      "Int64\n",
      "Int8\n",
      "InvalidOperationError\n",
      "LazyFrame\n",
      "List\n",
      "NESTED_DTYPES\n",
      "NUMERIC_DTYPES\n",
      "NoDataError\n",
      "Null\n",
      "Object\n",
      "OutOfBoundsError\n",
      "PolarsDataType\n",
      "PolarsPanicError\n",
      "SQLContext\n",
      "SchemaError\n",
      "SchemaFieldNotFoundError\n",
      "Series\n",
      "ShapeError\n",
      "StringCache\n",
      "Struct\n",
      "StructFieldNotFoundError\n",
      "TEMPORAL_DTYPES\n",
      "Time\n",
      "UInt16\n",
      "UInt32\n",
      "UInt64\n",
      "UInt8\n",
      "Unknown\n",
      "Utf8\n",
      "align_frames\n",
      "all\n",
      "all_horizontal\n",
      "any\n",
      "any_horizontal\n",
      "api\n",
      "apply\n",
      "approx_n_unique\n",
      "arange\n",
      "arctan2\n",
      "arctan2d\n",
      "arg_sort_by\n",
      "arg_where\n",
      "build_info\n",
      "coalesce\n",
      "col\n",
      "collect_all\n",
      "collect_all_async\n",
      "concat\n",
      "concat_list\n",
      "concat_str\n",
      "config\n",
      "contextlib\n",
      "convert\n",
      "corr\n",
      "count\n",
      "cov\n",
      "cum_fold\n",
      "cum_reduce\n",
      "cum_sum\n",
      "cum_sum_horizontal\n",
      "cumfold\n",
      "cumreduce\n",
      "cumsum\n",
      "cumsum_horizontal\n",
      "dataframe\n",
      "datatypes\n",
      "date\n",
      "date_range\n",
      "date_ranges\n",
      "datetime\n",
      "datetime_range\n",
      "datetime_ranges\n",
      "dependencies\n",
      "disable_string_cache\n",
      "duration\n",
      "element\n",
      "enable_string_cache\n",
      "exceptions\n",
      "exclude\n",
      "expr\n",
      "first\n",
      "fold\n",
      "format\n",
      "from_arrow\n",
      "from_dataframe\n",
      "from_dict\n",
      "from_dicts\n",
      "from_epoch\n",
      "from_numpy\n",
      "from_pandas\n",
      "from_records\n",
      "from_repr\n",
      "functions\n",
      "get_index_type\n",
      "groups\n",
      "head\n",
      "implode\n",
      "int_range\n",
      "int_ranges\n",
      "io\n",
      "last\n",
      "lazyframe\n",
      "lit\n",
      "map\n",
      "map_batches\n",
      "map_groups\n",
      "max\n",
      "max_horizontal\n",
      "mean\n",
      "median\n",
      "min\n",
      "min_horizontal\n",
      "n_unique\n",
      "ones\n",
      "os\n",
      "polars\n",
      "quantile\n",
      "read_avro\n",
      "read_csv\n",
      "read_csv_batched\n",
      "read_database\n",
      "read_database_uri\n",
      "read_delta\n",
      "read_excel\n",
      "read_ipc\n",
      "read_ipc_schema\n",
      "read_ipc_stream\n",
      "read_json\n",
      "read_ndjson\n",
      "read_ods\n",
      "read_parquet\n",
      "read_parquet_schema\n",
      "reduce\n",
      "repeat\n",
      "rolling_corr\n",
      "rolling_cov\n",
      "scan_csv\n",
      "scan_delta\n",
      "scan_iceberg\n",
      "scan_ipc\n",
      "scan_ndjson\n",
      "scan_parquet\n",
      "scan_pyarrow_dataset\n",
      "select\n",
      "selectors\n",
      "series\n",
      "set_random_seed\n",
      "show_versions\n",
      "slice\n",
      "sql\n",
      "sql_expr\n",
      "std\n",
      "string_cache\n",
      "struct\n",
      "sum\n",
      "sum_horizontal\n",
      "tail\n",
      "threadpool_size\n",
      "time\n",
      "time_range\n",
      "time_ranges\n",
      "type_aliases\n",
      "using_string_cache\n",
      "utils\n",
      "var\n",
      "when\n",
      "wrap_df\n",
      "wrap_s\n",
      "zeros\n"
     ]
    }
   ],
   "source": [
    "# for meth in dir(pl):\n",
    "#     if not meth.startswith('_'):\n",
    "#         print(meth)"
   ]
  },
  {
   "cell_type": "code",
   "execution_count": 7,
   "id": "787864c6-7ccf-48df-83c5-758c0e3b5ecb",
   "metadata": {
    "tags": []
   },
   "outputs": [
    {
     "data": {
      "text/plain": [
       "\u001b[0;31mType:\u001b[0m        module\n",
       "\u001b[0;31mString form:\u001b[0m <module 'polars.polars' from '/usr/local/Caskroom/mambaforge/base/envs/plenv/lib/python3.12/site-packages/polars/polars.abi3.so'>\n",
       "\u001b[0;31mFile:\u001b[0m        /usr/local/Caskroom/mambaforge/base/envs/plenv/lib/python3.12/site-packages/polars/polars.abi3.so"
      ]
     },
     "metadata": {},
     "output_type": "display_data"
    }
   ],
   "source": [
    "?pl.polars"
   ]
  },
  {
   "cell_type": "code",
   "execution_count": 8,
   "id": "e71b7014-3867-4f26-81c9-ddcd9cffc771",
   "metadata": {
    "tags": []
   },
   "outputs": [],
   "source": [
    "from pathlib import Path"
   ]
  },
  {
   "cell_type": "code",
   "execution_count": 9,
   "id": "224e67e9-7cc6-48d7-acd3-3a687f6ce65e",
   "metadata": {
    "tags": []
   },
   "outputs": [
    {
     "name": "stdout",
     "output_type": "stream",
     "text": [
      "/Users/daas/TutoringAndTeaching/DataScienceWithPythonPath/03. Polars Path/Polars Path/Data\n"
     ]
    }
   ],
   "source": [
    "data = Path(\"../Data/\").resolve()\n",
    "print(data)"
   ]
  },
  {
   "cell_type": "code",
   "execution_count": 10,
   "id": "fe688ab2-dcef-44b4-8d7a-217c9bfb1dfd",
   "metadata": {
    "tags": []
   },
   "outputs": [],
   "source": [
    "temperature_path = data.joinpath(\"city_temperature.csv\")"
   ]
  },
  {
   "cell_type": "code",
   "execution_count": 11,
   "id": "39a63c11-669c-4aad-a841-0ccfb173d23d",
   "metadata": {
    "tags": []
   },
   "outputs": [
    {
     "name": "stdout",
     "output_type": "stream",
     "text": [
      "/Users/daas/TutoringAndTeaching/DataScienceWithPythonPath/03. Polars Path/Polars Path/Data/city_temperature.csv\n"
     ]
    }
   ],
   "source": [
    "print(temperature_path)"
   ]
  },
  {
   "cell_type": "code",
   "execution_count": 12,
   "id": "b8fdb20f-b686-4238-a577-edaf5995baba",
   "metadata": {
    "tags": []
   },
   "outputs": [],
   "source": [
    "import time "
   ]
  },
  {
   "cell_type": "code",
   "execution_count": 13,
   "id": "5b365d66-6420-4dda-9725-36332568e5dd",
   "metadata": {
    "tags": []
   },
   "outputs": [],
   "source": [
    "start = time.time()\n",
    "city_temp = pl.read_csv(temperature_path)\n",
    "end = time.time()"
   ]
  },
  {
   "cell_type": "code",
   "execution_count": 14,
   "id": "f3f06f11-ad76-46e1-bd46-340696587edd",
   "metadata": {
    "tags": []
   },
   "outputs": [
    {
     "name": "stdout",
     "output_type": "stream",
     "text": [
      "0.4049038887023926\n"
     ]
    }
   ],
   "source": [
    "print(end - start)"
   ]
  },
  {
   "cell_type": "code",
   "execution_count": 15,
   "id": "173b9a27-7796-4d97-97e3-69c7eb046cc5",
   "metadata": {
    "tags": []
   },
   "outputs": [
    {
     "data": {
      "text/plain": [
       "OrderedDict([('Region', Utf8),\n",
       "             ('Country', Utf8),\n",
       "             ('State', Utf8),\n",
       "             ('City', Utf8),\n",
       "             ('Month', Int64),\n",
       "             ('Day', Int64),\n",
       "             ('Year', Int64),\n",
       "             ('AvgTemperature', Float64)])"
      ]
     },
     "execution_count": 15,
     "metadata": {},
     "output_type": "execute_result"
    }
   ],
   "source": [
    "city_temp.schema"
   ]
  },
  {
   "cell_type": "code",
   "execution_count": 16,
   "id": "881989ad-1bc7-404a-bfa0-4fd4f022cb96",
   "metadata": {
    "tags": []
   },
   "outputs": [
    {
     "data": {
      "text/plain": [
       "['Region',\n",
       " 'Country',\n",
       " 'State',\n",
       " 'City',\n",
       " 'Month',\n",
       " 'Day',\n",
       " 'Year',\n",
       " 'AvgTemperature']"
      ]
     },
     "execution_count": 16,
     "metadata": {},
     "output_type": "execute_result"
    }
   ],
   "source": [
    "city_temp.columns"
   ]
  },
  {
   "cell_type": "code",
   "execution_count": null,
   "id": "9922c7c2-5607-4a11-b974-645a98043fda",
   "metadata": {},
   "outputs": [],
   "source": []
  },
  {
   "cell_type": "code",
   "execution_count": 17,
   "id": "e239822a-5123-4ebf-be73-96298c5f7e9b",
   "metadata": {
    "tags": []
   },
   "outputs": [
    {
     "name": "stdout",
     "output_type": "stream",
     "text": [
      "<class 'pandas.core.frame.DataFrame'>\n",
      "RangeIndex: 2906327 entries, 0 to 2906326\n",
      "Data columns (total 8 columns):\n",
      " #   Column          Dtype  \n",
      "---  ------          -----  \n",
      " 0   Region          object \n",
      " 1   Country         object \n",
      " 2   State           object \n",
      " 3   City            object \n",
      " 4   Month           int64  \n",
      " 5   Day             int64  \n",
      " 6   Year            int64  \n",
      " 7   AvgTemperature  float64\n",
      "dtypes: float64(1), int64(3), object(4)\n",
      "memory usage: 177.4+ MB\n"
     ]
    }
   ],
   "source": [
    "city_temp.to_pandas().info()"
   ]
  },
  {
   "cell_type": "code",
   "execution_count": 20,
   "id": "82b97edc-5a07-450d-8ea9-3a3d1fd41834",
   "metadata": {
    "tags": []
   },
   "outputs": [
    {
     "name": "stdout",
     "output_type": "stream",
     "text": [
      "shape: (5, 8)\n",
      "┌────────┬─────────┬───────┬─────────┬───────┬─────┬──────┬────────────────┐\n",
      "│ Region ┆ Country ┆ State ┆ City    ┆ Month ┆ Day ┆ Year ┆ AvgTemperature │\n",
      "│ ---    ┆ ---     ┆ ---   ┆ ---     ┆ ---   ┆ --- ┆ ---  ┆ ---            │\n",
      "│ str    ┆ str     ┆ str   ┆ str     ┆ i64   ┆ i64 ┆ i64  ┆ f64            │\n",
      "╞════════╪═════════╪═══════╪═════════╪═══════╪═════╪══════╪════════════════╡\n",
      "│ Africa ┆ Algeria ┆ null  ┆ Algiers ┆ 1     ┆ 1   ┆ 1995 ┆ 64.2           │\n",
      "│ Africa ┆ Algeria ┆ null  ┆ Algiers ┆ 1     ┆ 2   ┆ 1995 ┆ 49.4           │\n",
      "│ Africa ┆ Algeria ┆ null  ┆ Algiers ┆ 1     ┆ 3   ┆ 1995 ┆ 48.8           │\n",
      "│ Africa ┆ Algeria ┆ null  ┆ Algiers ┆ 1     ┆ 4   ┆ 1995 ┆ 46.4           │\n",
      "│ Africa ┆ Algeria ┆ null  ┆ Algiers ┆ 1     ┆ 5   ┆ 1995 ┆ 47.9           │\n",
      "└────────┴─────────┴───────┴─────────┴───────┴─────┴──────┴────────────────┘\n"
     ]
    }
   ],
   "source": [
    "print(city_temp.head())"
   ]
  },
  {
   "cell_type": "code",
   "execution_count": 21,
   "id": "3967982c-5e42-4106-8a5a-58f57ca0389c",
   "metadata": {
    "tags": []
   },
   "outputs": [],
   "source": [
    "import pandas as pd"
   ]
  },
  {
   "cell_type": "code",
   "execution_count": 23,
   "id": "712b8b31-f126-4eee-9454-ae3cd103d586",
   "metadata": {
    "tags": []
   },
   "outputs": [
    {
     "name": "stdout",
     "output_type": "stream",
     "text": [
      "3.7848238945007324\n"
     ]
    }
   ],
   "source": [
    "start = time.time()\n",
    "df = pd.read_csv(temperature_path, low_memory=False)\n",
    "end = time.time()\n",
    "print(end - start)"
   ]
  },
  {
   "cell_type": "code",
   "execution_count": 24,
   "id": "ce9454f0-8c10-449f-8350-4c8d58fbbe89",
   "metadata": {
    "tags": []
   },
   "outputs": [
    {
     "data": {
      "text/html": [
       "<div><style>\n",
       ".dataframe > thead > tr,\n",
       ".dataframe > tbody > tr {\n",
       "  text-align: right;\n",
       "  white-space: pre-wrap;\n",
       "}\n",
       "</style>\n",
       "<small>shape: (2_906_327, 2)</small><table border=\"1\" class=\"dataframe\"><thead><tr><th>Country</th><th>AvgTemperature</th></tr><tr><td>str</td><td>f64</td></tr></thead><tbody><tr><td>&quot;Algeria&quot;</td><td>64.2</td></tr><tr><td>&quot;Algeria&quot;</td><td>49.4</td></tr><tr><td>&quot;Algeria&quot;</td><td>48.8</td></tr><tr><td>&quot;Algeria&quot;</td><td>46.4</td></tr><tr><td>&quot;Algeria&quot;</td><td>47.9</td></tr><tr><td>&quot;Algeria&quot;</td><td>48.7</td></tr><tr><td>&quot;Algeria&quot;</td><td>48.9</td></tr><tr><td>&quot;Algeria&quot;</td><td>49.1</td></tr><tr><td>&quot;Algeria&quot;</td><td>49.0</td></tr><tr><td>&quot;Algeria&quot;</td><td>51.9</td></tr><tr><td>&quot;Algeria&quot;</td><td>51.7</td></tr><tr><td>&quot;Algeria&quot;</td><td>51.3</td></tr><tr><td>&hellip;</td><td>&hellip;</td></tr><tr><td>&quot;US&quot;</td><td>83.4</td></tr><tr><td>&quot;US&quot;</td><td>82.8</td></tr><tr><td>&quot;US&quot;</td><td>80.9</td></tr><tr><td>&quot;US&quot;</td><td>83.1</td></tr><tr><td>&quot;US&quot;</td><td>83.2</td></tr><tr><td>&quot;US&quot;</td><td>83.7</td></tr><tr><td>&quot;US&quot;</td><td>82.4</td></tr><tr><td>&quot;US&quot;</td><td>82.4</td></tr><tr><td>&quot;US&quot;</td><td>81.6</td></tr><tr><td>&quot;US&quot;</td><td>84.2</td></tr><tr><td>&quot;US&quot;</td><td>83.8</td></tr><tr><td>&quot;US&quot;</td><td>83.6</td></tr></tbody></table></div>"
      ],
      "text/plain": [
       "shape: (2_906_327, 2)\n",
       "┌─────────┬────────────────┐\n",
       "│ Country ┆ AvgTemperature │\n",
       "│ ---     ┆ ---            │\n",
       "│ str     ┆ f64            │\n",
       "╞═════════╪════════════════╡\n",
       "│ Algeria ┆ 64.2           │\n",
       "│ Algeria ┆ 49.4           │\n",
       "│ Algeria ┆ 48.8           │\n",
       "│ Algeria ┆ 46.4           │\n",
       "│ …       ┆ …              │\n",
       "│ US      ┆ 81.6           │\n",
       "│ US      ┆ 84.2           │\n",
       "│ US      ┆ 83.8           │\n",
       "│ US      ┆ 83.6           │\n",
       "└─────────┴────────────────┘"
      ]
     },
     "execution_count": 24,
     "metadata": {},
     "output_type": "execute_result"
    }
   ],
   "source": [
    "city_temp.select(['Country', 'AvgTemperature'])"
   ]
  },
  {
   "cell_type": "code",
   "execution_count": 25,
   "id": "2f6a4eeb-1c8c-432e-ac9b-4e8fdf4ab03a",
   "metadata": {
    "tags": []
   },
   "outputs": [
    {
     "data": {
      "text/plain": [
       "\u001b[0;31mDocstring:\u001b[0m\n",
       "Define an alias for a system command.\n",
       "\n",
       "'%alias alias_name cmd' defines 'alias_name' as an alias for 'cmd'\n",
       "\n",
       "Then, typing 'alias_name params' will execute the system command 'cmd\n",
       "params' (from your underlying operating system).\n",
       "\n",
       "Aliases have lower precedence than magic functions and Python normal\n",
       "variables, so if 'foo' is both a Python variable and an alias, the\n",
       "alias can not be executed until 'del foo' removes the Python variable.\n",
       "\n",
       "You can use the %l specifier in an alias definition to represent the\n",
       "whole line when the alias is called.  For example::\n",
       "\n",
       "  In [2]: alias bracket echo \"Input in brackets: <%l>\"\n",
       "  In [3]: bracket hello world\n",
       "  Input in brackets: <hello world>\n",
       "\n",
       "You can also define aliases with parameters using %s specifiers (one\n",
       "per parameter)::\n",
       "\n",
       "  In [1]: alias parts echo first %s second %s\n",
       "  In [2]: %parts A B\n",
       "  first A second B\n",
       "  In [3]: %parts A\n",
       "  Incorrect number of arguments: 2 expected.\n",
       "  parts is an alias to: 'echo first %s second %s'\n",
       "\n",
       "Note that %l and %s are mutually exclusive.  You can only use one or\n",
       "the other in your aliases.\n",
       "\n",
       "Aliases expand Python variables just like system calls using ! or !!\n",
       "do: all expressions prefixed with '$' get expanded.  For details of\n",
       "the semantic rules, see PEP-215:\n",
       "https://peps.python.org/pep-0215/.  This is the library used by\n",
       "IPython for variable expansion.  If you want to access a true shell\n",
       "variable, an extra $ is necessary to prevent its expansion by\n",
       "IPython::\n",
       "\n",
       "  In [6]: alias show echo\n",
       "  In [7]: PATH='A Python string'\n",
       "  In [8]: show $PATH\n",
       "  A Python string\n",
       "  In [9]: show $$PATH\n",
       "  /usr/local/lf9560/bin:/usr/local/intel/compiler70/ia32/bin:...\n",
       "\n",
       "You can use the alias facility to access all of $PATH.  See the %rehashx\n",
       "function, which automatically creates aliases for the contents of your\n",
       "$PATH.\n",
       "\n",
       "If called with no parameters, %alias prints the current alias table\n",
       "for your system.  For posix systems, the default aliases are 'cat',\n",
       "'cp', 'mv', 'rm', 'rmdir', and 'mkdir', and other platform-specific\n",
       "aliases are added.  For windows-based systems, the default aliases are\n",
       "'copy', 'ddir', 'echo', 'ls', 'ldir', 'mkdir', 'ren', and 'rmdir'.\n",
       "\n",
       "You can see the definition of alias by adding a question mark in the\n",
       "end::\n",
       "\n",
       "  In [1]: cat?\n",
       "  Repr: <alias cat for 'cat'>\n",
       "\u001b[0;31mFile:\u001b[0m      /usr/local/Caskroom/mambaforge/base/envs/plenv/lib/python3.12/site-packages/IPython/core/magics/osm.py"
      ]
     },
     "metadata": {},
     "output_type": "display_data"
    }
   ],
   "source": [
    "pl.DataFrame().with_columns().alias?"
   ]
  },
  {
   "cell_type": "code",
   "execution_count": null,
   "id": "7bf25978-e4c2-4e55-a5ec-153cb6ff006a",
   "metadata": {},
   "outputs": [],
   "source": [
    "pl.col"
   ]
  }
 ],
 "metadata": {
  "kernelspec": {
   "display_name": "PolarsEnv",
   "language": "python",
   "name": "plenv"
  },
  "language_info": {
   "codemirror_mode": {
    "name": "ipython",
    "version": 3
   },
   "file_extension": ".py",
   "mimetype": "text/x-python",
   "name": "python",
   "nbconvert_exporter": "python",
   "pygments_lexer": "ipython3",
   "version": "3.12.1"
  }
 },
 "nbformat": 4,
 "nbformat_minor": 5
}
