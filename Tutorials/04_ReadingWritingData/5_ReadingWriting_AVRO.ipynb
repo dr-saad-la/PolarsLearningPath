{
 "cells": [
  {
   "cell_type": "markdown",
   "id": "4a699447-f6c2-4385-a32e-4db8f5202d01",
   "metadata": {},
   "source": [
    "<div style=\"text-align:center;font-size:22pt; font-weight:bold;color:white;border:solid black 1.5pt;background-color:#1e7263;\">\n",
    "    Reading and Writing Apache AVRO Data \n",
    "</div>"
   ]
  },
  {
   "cell_type": "code",
   "execution_count": 1,
   "id": "c34b1ebb-1849-4b6c-bbd4-a66919a78008",
   "metadata": {},
   "outputs": [],
   "source": [
    "# ============================================================\n",
    "#                                                            =\n",
    "#             Title: Reading and Writing Apache AVRO Data    =\n",
    "#             ---------------------------------              =\n",
    "#                                                            =\n",
    "#             Author: Dr. Saad Laouadi                       =\n",
    "#                                                            =\n",
    "#             Copyright: Dr. Saad Laouadi                    =\n",
    "# ============================================================\n",
    "#                                                            =\n",
    "#                       LICENSE                              =\n",
    "#             ----------------------                         =\n",
    "#                                                            =\n",
    "#             This material is intended for educational      =\n",
    "#             purposes only and may not be used directly in  =\n",
    "#             courses, video recordings, or similar          =\n",
    "#             without prior consent from the author.         =\n",
    "#             When using or referencing this material,       =\n",
    "#             proper credit must be attributed to the        =\n",
    "#             author.                                        =\n",
    "# ============================================================"
   ]
  },
  {
   "cell_type": "code",
   "execution_count": 2,
   "id": "7a9be308-bfec-44e1-b2f6-14187eba305e",
   "metadata": {
    "tags": []
   },
   "outputs": [
    {
     "name": "stdout",
     "output_type": "stream",
     "text": [
      "******************************************\n",
      "          The imported libs are:          \n",
      "******************************************\n",
      "polars version is :     0.20.2\n",
      "pandas version is :      2.1.4\n",
      "numpy version is  :     1.26.2\n",
      "pyarrow version is:     14.0.2\n",
      "******************************************\n",
      "The imported builtin modules are:\n",
      "['os', 'sys', 'pathlib', 'time', 'shutil', 're']\n",
      "**************************************************************\n",
      "The python executable path is:\n",
      " /usr/local/Caskroom/mambaforge/base/envs/plenv/bin/python3.12\n",
      "**************************************************************\n",
      "\n",
      "....................\n",
      "Important Reminder:\n",
      "....................\n",
      "\n",
      "Before proceeding, please ensure that you have activated the appropriate virtual environment for this project.\n",
      "This step is crucial to maintain consistent dependencies and project settings.\n",
      "...............................................................................\n"
     ]
    }
   ],
   "source": [
    "# Environment Setup\n",
    "import sys\n",
    "sys.path.append('../../scripts/')  \n",
    "\n",
    "# import the working libraries\n",
    "from importlibs import *"
   ]
  },
  {
   "cell_type": "code",
   "execution_count": 10,
   "id": "889cdc44-6fd2-4ea6-97a9-e63040f3aca6",
   "metadata": {},
   "outputs": [],
   "source": [
    "# Data path settings\n",
    "DATA_ROOT = Path(\"../../datasets\").resolve()\n",
    "WEATHER = Path.joinpath(DATA_ROOT, 'london_weather.avro')"
   ]
  },
  {
   "cell_type": "code",
   "execution_count": null,
   "id": "d9eaddb9-4861-4651-bab4-779e59da18ed",
   "metadata": {},
   "outputs": [],
   "source": []
  },
  {
   "cell_type": "markdown",
   "id": "56e8b3c0-0b07-45d6-a778-3dfa57639d5e",
   "metadata": {},
   "source": [
    "## The `polars.read_avro()` Method\n",
    "\n",
    "The pl.read_avro function in the Polars library provides a convenient way to read data from Apache Avro format into a DataFrame. This function is especially useful when dealing with large datasets stored in Avro format, which is a row-oriented, compact binary file format optimized for data serialization.\n",
    "\n",
    "Function Prototype\n",
    "\n",
    "```python\n",
    "pl.read_avro(\n",
    "    source: 'str | Path | BytesIO | BinaryIO',\n",
    "    *,\n",
    "    columns: 'list[int] | list[str] | None' = None,\n",
    "    n_rows: 'int | None' = None\n",
    ") -> 'DataFrame'\n",
    "```\n",
    "\n",
    "- **The Parameters**\n",
    "    - source (str | Path | BytesIO | BinaryIO):\n",
    "        - This is the path to the Avro file or a file-like object that you want to read.\n",
    "        - If it's a string or Path, it should be the file path.\n",
    "        - For file-like objects, they should have a read() method (e.g., a file opened with the built-in open function or a BytesIO object).\n",
    "    - columns (list[int] | list[str] | None, default None):\n",
    "        - This parameter allows you to specify which columns to read from the Avro file.\n",
    "        - You can provide a list of column indices (starting from 0) or a list of column names.\n",
    "        - If None, all columns are read.\n",
    "    - n_rows (int | None, default None):\n",
    "        - Use this to specify the number of rows to read.\n",
    "        - If set to an integer, the function will stop reading after n_rows rows.\n",
    "        - If None, it reads the entire file.\n",
    "\n",
    "- **The Return Value**\n",
    "\n",
    "- The function returns a DataFrame containing the data read from the Avro file.\n",
    "\n",
    "\n",
    "### Example \n",
    "\n",
    "```python\n",
    "import polars as pl\n",
    "\n",
    "# Reading an Avro file\n",
    "df = pl.read_avro(\"path/to/your/file.avro\")\n",
    "\n",
    "# Reading with specific columns\n",
    "df = pl.read_avro(\"path/to/file.avro\", columns=[\"column1\", \"column2\"])\n",
    "\n",
    "# Reading a fixed number of rows\n",
    "df = pl.read_avro(\"path/to/file.avro\", n_rows=100)\n",
    "```\n",
    "\n",
    "### Practical Example"
   ]
  },
  {
   "cell_type": "code",
   "execution_count": 11,
   "id": "06f37150-cee6-4427-8d32-14a75586c6cc",
   "metadata": {
    "tags": []
   },
   "outputs": [],
   "source": [
    "weather = pl.read_avro(WEATHER)"
   ]
  },
  {
   "cell_type": "code",
   "execution_count": 17,
   "id": "e506d3fb-5a32-4bb4-956f-b011382487f3",
   "metadata": {
    "tags": []
   },
   "outputs": [
    {
     "name": "stdout",
     "output_type": "stream",
     "text": [
      "OrderedDict([('date', Int64),\n",
      "             ('cloud_cover', Float64),\n",
      "             ('sunshine', Float64),\n",
      "             ('global_radiation', Float64),\n",
      "             ('max_temp', Float64),\n",
      "             ('mean_temp', Float64),\n",
      "             ('min_temp', Float64),\n",
      "             ('precipitation', Float64),\n",
      "             ('pressure', Float64),\n",
      "             ('snow_depth', Float64)])\n"
     ]
    }
   ],
   "source": [
    "from pprint import pprint\n",
    "pprint(weather.schema)"
   ]
  },
  {
   "cell_type": "code",
   "execution_count": 18,
   "id": "45702b0e-9201-4ad3-afe4-041af5d14cd4",
   "metadata": {
    "tags": []
   },
   "outputs": [
    {
     "name": "stdout",
     "output_type": "stream",
     "text": [
      "(15341, 10)\n"
     ]
    }
   ],
   "source": [
    "print(weather.shape)"
   ]
  },
  {
   "cell_type": "code",
   "execution_count": 15,
   "id": "efe1fb1c-354d-481a-92cc-7a8f9f83702b",
   "metadata": {
    "tags": []
   },
   "outputs": [
    {
     "data": {
      "text/html": [
       "<div><style>\n",
       ".dataframe > thead > tr,\n",
       ".dataframe > tbody > tr {\n",
       "  text-align: right;\n",
       "  white-space: pre-wrap;\n",
       "}\n",
       "</style>\n",
       "<small>shape: (10, 10)</small><table border=\"1\" class=\"dataframe\"><thead><tr><th>date</th><th>cloud_cover</th><th>sunshine</th><th>global_radiation</th><th>max_temp</th><th>mean_temp</th><th>min_temp</th><th>precipitation</th><th>pressure</th><th>snow_depth</th></tr><tr><td>i64</td><td>f64</td><td>f64</td><td>f64</td><td>f64</td><td>f64</td><td>f64</td><td>f64</td><td>f64</td><td>f64</td></tr></thead><tbody><tr><td>19790101</td><td>2.0</td><td>7.0</td><td>52.0</td><td>2.3</td><td>-4.1</td><td>-7.5</td><td>0.4</td><td>101900.0</td><td>9.0</td></tr><tr><td>19790102</td><td>6.0</td><td>1.7</td><td>27.0</td><td>1.6</td><td>-2.6</td><td>-7.5</td><td>0.0</td><td>102530.0</td><td>8.0</td></tr><tr><td>19790103</td><td>5.0</td><td>0.0</td><td>13.0</td><td>1.3</td><td>-2.8</td><td>-7.2</td><td>0.0</td><td>102050.0</td><td>4.0</td></tr><tr><td>19790104</td><td>8.0</td><td>0.0</td><td>13.0</td><td>-0.3</td><td>-2.6</td><td>-6.5</td><td>0.0</td><td>100840.0</td><td>2.0</td></tr><tr><td>19790105</td><td>6.0</td><td>2.0</td><td>29.0</td><td>5.6</td><td>-0.8</td><td>-1.4</td><td>0.0</td><td>102250.0</td><td>1.0</td></tr><tr><td>19790106</td><td>5.0</td><td>3.8</td><td>39.0</td><td>8.3</td><td>-0.5</td><td>-6.6</td><td>0.7</td><td>102780.0</td><td>1.0</td></tr><tr><td>19790107</td><td>8.0</td><td>0.0</td><td>13.0</td><td>8.5</td><td>1.5</td><td>-5.3</td><td>5.2</td><td>102520.0</td><td>0.0</td></tr><tr><td>19790108</td><td>8.0</td><td>0.1</td><td>15.0</td><td>5.8</td><td>6.9</td><td>5.3</td><td>0.8</td><td>101870.0</td><td>0.0</td></tr><tr><td>19790109</td><td>4.0</td><td>5.8</td><td>50.0</td><td>5.2</td><td>3.7</td><td>1.6</td><td>7.2</td><td>101170.0</td><td>0.0</td></tr><tr><td>19790110</td><td>7.0</td><td>1.9</td><td>30.0</td><td>4.9</td><td>3.3</td><td>1.4</td><td>2.1</td><td>98700.0</td><td>0.0</td></tr></tbody></table></div>"
      ],
      "text/plain": [
       "shape: (10, 10)\n",
       "┌──────────┬────────────┬──────────┬────────────┬───┬──────────┬────────────┬──────────┬───────────┐\n",
       "│ date     ┆ cloud_cove ┆ sunshine ┆ global_rad ┆ … ┆ min_temp ┆ precipitat ┆ pressure ┆ snow_dept │\n",
       "│ ---      ┆ r          ┆ ---      ┆ iation     ┆   ┆ ---      ┆ ion        ┆ ---      ┆ h         │\n",
       "│ i64      ┆ ---        ┆ f64      ┆ ---        ┆   ┆ f64      ┆ ---        ┆ f64      ┆ ---       │\n",
       "│          ┆ f64        ┆          ┆ f64        ┆   ┆          ┆ f64        ┆          ┆ f64       │\n",
       "╞══════════╪════════════╪══════════╪════════════╪═══╪══════════╪════════════╪══════════╪═══════════╡\n",
       "│ 19790101 ┆ 2.0        ┆ 7.0      ┆ 52.0       ┆ … ┆ -7.5     ┆ 0.4        ┆ 101900.0 ┆ 9.0       │\n",
       "│ 19790102 ┆ 6.0        ┆ 1.7      ┆ 27.0       ┆ … ┆ -7.5     ┆ 0.0        ┆ 102530.0 ┆ 8.0       │\n",
       "│ 19790103 ┆ 5.0        ┆ 0.0      ┆ 13.0       ┆ … ┆ -7.2     ┆ 0.0        ┆ 102050.0 ┆ 4.0       │\n",
       "│ 19790104 ┆ 8.0        ┆ 0.0      ┆ 13.0       ┆ … ┆ -6.5     ┆ 0.0        ┆ 100840.0 ┆ 2.0       │\n",
       "│ …        ┆ …          ┆ …        ┆ …          ┆ … ┆ …        ┆ …          ┆ …        ┆ …         │\n",
       "│ 19790107 ┆ 8.0        ┆ 0.0      ┆ 13.0       ┆ … ┆ -5.3     ┆ 5.2        ┆ 102520.0 ┆ 0.0       │\n",
       "│ 19790108 ┆ 8.0        ┆ 0.1      ┆ 15.0       ┆ … ┆ 5.3      ┆ 0.8        ┆ 101870.0 ┆ 0.0       │\n",
       "│ 19790109 ┆ 4.0        ┆ 5.8      ┆ 50.0       ┆ … ┆ 1.6      ┆ 7.2        ┆ 101170.0 ┆ 0.0       │\n",
       "│ 19790110 ┆ 7.0        ┆ 1.9      ┆ 30.0       ┆ … ┆ 1.4      ┆ 2.1        ┆ 98700.0  ┆ 0.0       │\n",
       "└──────────┴────────────┴──────────┴────────────┴───┴──────────┴────────────┴──────────┴───────────┘"
      ]
     },
     "execution_count": 15,
     "metadata": {},
     "output_type": "execute_result"
    }
   ],
   "source": [
    "weather.head(10)"
   ]
  },
  {
   "cell_type": "markdown",
   "id": "bc1e4064-ff74-4378-8c2c-371ab8f89667",
   "metadata": {},
   "source": [
    "### Writing `avro` Data Format"
   ]
  },
  {
   "cell_type": "code",
   "execution_count": null,
   "id": "69663fcd-da4e-4cda-9474-d5aa6079985c",
   "metadata": {},
   "outputs": [],
   "source": []
  }
 ],
 "metadata": {
  "kernelspec": {
   "display_name": "PolarsEnv",
   "language": "python",
   "name": "plenv"
  },
  "language_info": {
   "codemirror_mode": {
    "name": "ipython",
    "version": 3
   },
   "file_extension": ".py",
   "mimetype": "text/x-python",
   "name": "python",
   "nbconvert_exporter": "python",
   "pygments_lexer": "ipython3",
   "version": "3.12.1"
  }
 },
 "nbformat": 4,
 "nbformat_minor": 5
}
