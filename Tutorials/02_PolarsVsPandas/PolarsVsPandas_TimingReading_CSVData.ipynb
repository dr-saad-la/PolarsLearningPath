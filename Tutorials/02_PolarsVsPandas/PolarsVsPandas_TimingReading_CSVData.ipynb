{
 "cells": [
  {
   "cell_type": "markdown",
   "id": "4a699447-f6c2-4385-a32e-4db8f5202d01",
   "metadata": {},
   "source": [
    "<div style=\"text-align:center;font-size:22pt; font-weight:bold;color:white;border:solid black 1.5pt;background-color:#1e7263;\">\n",
    "    Timing Reading Plain Text Data  <br> \n",
    "    Comparison between Pandas & Polars\n",
    "</div>"
   ]
  },
  {
   "cell_type": "code",
   "execution_count": 1,
   "id": "c34b1ebb-1849-4b6c-bbd4-a66919a78008",
   "metadata": {},
   "outputs": [],
   "source": [
    "# ============================================================\n",
    "#                                                            =\n",
    "#             Title: Polars Vs Pandas                        =\n",
    "#                    Timing Reading Plain Text Data          =\n",
    "#             ---------------------------------              =\n",
    "#                                                            =\n",
    "#             Author: Dr. Saad Laouadi                       =\n",
    "#                                                            =\n",
    "#             Copyright: Dr. Saad Laouadi                    =\n",
    "# ============================================================\n",
    "#                                                            =\n",
    "#                       LICENSE                              =\n",
    "#             ----------------------                         =\n",
    "#                                                            =\n",
    "#             This material is intended for educational      =\n",
    "#             purposes only and may not be used directly in  =\n",
    "#             courses, video recordings, or similar          =\n",
    "#             without prior consent from the author.         =\n",
    "#             When using or referencing this material,       =\n",
    "#             proper credit must be attributed to the        =\n",
    "#             author.                                        =\n",
    "# ============================================================"
   ]
  },
  {
   "cell_type": "code",
   "execution_count": 2,
   "id": "7a9be308-bfec-44e1-b2f6-14187eba305e",
   "metadata": {
    "tags": []
   },
   "outputs": [],
   "source": [
    "# Adds the 'scripts' directory to the Python path\n",
    "import sys\n",
    "sys.path.append('../../scripts/')  "
   ]
  },
  {
   "cell_type": "code",
   "execution_count": 3,
   "id": "49da5314-3469-467f-a675-456feb1165c9",
   "metadata": {
    "tags": []
   },
   "outputs": [
    {
     "name": "stdout",
     "output_type": "stream",
     "text": [
      "******************************************\n",
      "          The imported libs are:          \n",
      "******************************************\n",
      "polars version is :     0.20.2\n",
      "pandas version is :      2.1.4\n",
      "numpy version is  :     1.26.2\n",
      "pyarrow version is:     14.0.2\n",
      "******************************************\n",
      "The imported builtin modules are:\n",
      "['os', 'sys', 'pathlib', 'time', 'shutil', 're']\n",
      "**************************************************************\n",
      "The python executable path is:\n",
      " /usr/local/Caskroom/mambaforge/base/envs/plenv/bin/python3.12\n",
      "**************************************************************\n",
      "Important Reminder:\n",
      "Before proceeding, please ensure that you have activated the appropriate virtual environment for this project.\n",
      "This step is crucial to maintain consistent dependencies and project settings.\n"
     ]
    }
   ],
   "source": [
    "# import the working libraries\n",
    "from importlibs import *"
   ]
  },
  {
   "cell_type": "markdown",
   "id": "a0678d4d-d47e-431e-9ebc-e5b57d96872c",
   "metadata": {},
   "source": [
    "### Machine Characteristics\n",
    "\n",
    "Check your machine characterisctics using the `psutil` first. "
   ]
  },
  {
   "cell_type": "code",
   "execution_count": 4,
   "id": "10a45ff3-2ce8-42db-ba96-726c029eb9b5",
   "metadata": {
    "tags": []
   },
   "outputs": [
    {
     "name": "stdout",
     "output_type": "stream",
     "text": [
      "Physical CPU cores  : 6\n",
      "Logical CPU cores   : 12\n",
      "CPU Frequency       : 2600.00MHz\n",
      "Total RAM           : 16.00 GB\n",
      "Available RAM       : 8.68 GB\n",
      "Used RAM            : 5.48 GB\n"
     ]
    }
   ],
   "source": [
    "import psutil\n",
    "\n",
    "# Get CPU information\n",
    "cpu_count = psutil.cpu_count(logical=False)\n",
    "cpu_count_logical = psutil.cpu_count()\n",
    "cpu_freq = psutil.cpu_freq()\n",
    "\n",
    "# RAM information\n",
    "ram = psutil.virtual_memory()\n",
    "\n",
    "print(f\"{'Physical CPU cores':<20}: {cpu_count}\")\n",
    "print(f\"{'Logical CPU cores':<20}: {cpu_count_logical}\")\n",
    "\n",
    "if cpu_freq:\n",
    "    print(f\"{'CPU Frequency':<20}: {cpu_freq.current:.2f}MHz\")\n",
    "    \n",
    "print(f\"{'Total RAM':<20}: {ram.total / (1024 ** 3):.2f} GB\")\n",
    "print(f\"{'Available RAM':<20}: {ram.available / (1024 ** 3):.2f} GB\")\n",
    "print(f\"{'Used RAM':<20}: {ram.used / (1024 ** 3):.2f} GB\")"
   ]
  },
  {
   "cell_type": "code",
   "execution_count": 5,
   "id": "55150cec-5384-4a9f-9891-5435c1d1fa24",
   "metadata": {
    "tags": []
   },
   "outputs": [],
   "source": [
    "# Data path settings\n",
    "DATA_ROOT = Path(\"../../datasets\").resolve()\n",
    "EARTHQUAKE_DATA = Path.joinpath(DATA_ROOT, 'earthquake.csv')\n",
    "CITY_TEMPERATURE = Path.joinpath(DATA_ROOT, \"city_temperature.csv\")\n",
    "\n",
    "# print(DATA_ROOT)\n",
    "# print(EARTHQUAKE_DATA)"
   ]
  },
  {
   "cell_type": "markdown",
   "id": "ecc8226a-fc60-4561-9500-c3664c0c68fe",
   "metadata": {},
   "source": [
    "## Timing Reading Data Using `time` Module\n",
    "\n",
    "- In this section we will use the `time()` function from the `time` module, which is a very simple way to time the execution of multi-line code. \n",
    "\n",
    "### Pandas "
   ]
  },
  {
   "cell_type": "code",
   "execution_count": 6,
   "id": "92d98b39-5d78-4696-b2db-b07db2f25cee",
   "metadata": {},
   "outputs": [
    {
     "name": "stdout",
     "output_type": "stream",
     "text": [
      "Time taken to read the CSV file: 0.0283918 seconds\n"
     ]
    }
   ],
   "source": [
    "# Record the start time\n",
    "start_time = time.time()\n",
    "\n",
    "# Read the CSV file\n",
    "data = pd.read_csv(EARTHQUAKE_DATA)\n",
    "\n",
    "# Record the end time\n",
    "end_time = time.time()\n",
    "\n",
    "# Calculate the execution time\n",
    "pd_execution_time = end_time - start_time\n",
    "\n",
    "print(f\"Time taken to read the CSV file: {pd_execution_time:.7f} seconds\")"
   ]
  },
  {
   "cell_type": "markdown",
   "id": "4c1a2621-b4c7-47b4-b33f-99b3b92df3a3",
   "metadata": {},
   "source": [
    "### With Polars"
   ]
  },
  {
   "cell_type": "code",
   "execution_count": 7,
   "id": "848e8393-66a6-4253-954d-8c7b285be65a",
   "metadata": {
    "tags": []
   },
   "outputs": [
    {
     "name": "stdout",
     "output_type": "stream",
     "text": [
      "Time taken to read the CSV file: 0.0072021 seconds\n"
     ]
    }
   ],
   "source": [
    "# Record the start time\n",
    "start_time = time.time()\n",
    "\n",
    "# Read the CSV file\n",
    "data = pl.read_csv(EARTHQUAKE_DATA)\n",
    "\n",
    "# Record the end time\n",
    "end_time = time.time()\n",
    "\n",
    "# Calculate the execution time\n",
    "pl_execution_time = end_time - start_time\n",
    "\n",
    "print(f\"Time taken to read the CSV file: {pl_execution_time:.7f} seconds\")"
   ]
  },
  {
   "cell_type": "markdown",
   "id": "d349ed64-3839-4b23-b4b7-4d035baaab21",
   "metadata": {},
   "source": [
    "### The Time Difference Polars and Pandas Execution Time\n"
   ]
  },
  {
   "cell_type": "code",
   "execution_count": 8,
   "id": "877009bf-357c-45af-b615-bd761197e51c",
   "metadata": {
    "tags": []
   },
   "outputs": [
    {
     "name": "stdout",
     "output_type": "stream",
     "text": [
      "The execution time difference: 0.02118968963623047\n"
     ]
    }
   ],
   "source": [
    "print(f\"The execution time difference: {pd_execution_time - pl_execution_time}\")"
   ]
  },
  {
   "cell_type": "markdown",
   "id": "9330fe29-ca2f-46af-84f9-1bd898022f44",
   "metadata": {},
   "source": [
    "## Basic Timing with `%%time` Cell Magic Command\n",
    "\n",
    "- We will use first `%%time`, the Jupyter Notebook cell magic command to measure the execution time of an entire cell in the notebook. \n",
    "\n",
    "- This cell magic command reports the time taken to run all the statements in the cell, providing a simple way to assess the performance of a block of code.\n",
    "\n",
    "\n",
    "- Note we can use the `%time` magic command instead, but my personal pereference is to use `%%time`"
   ]
  },
  {
   "cell_type": "markdown",
   "id": "9e3ad1fe-76ee-45e5-8119-487ffb271eeb",
   "metadata": {},
   "source": [
    "### Pandas "
   ]
  },
  {
   "cell_type": "code",
   "execution_count": 9,
   "id": "0b51932d-42fc-43a5-a9cd-fd6502ccf9a5",
   "metadata": {},
   "outputs": [
    {
     "name": "stdout",
     "output_type": "stream",
     "text": [
      "CPU times: user 19.7 ms, sys: 5.17 ms, total: 24.9 ms\n",
      "Wall time: 23.1 ms\n"
     ]
    }
   ],
   "source": [
    "%%time\n",
    "pd.read_csv(EARTHQUAKE_DATA);"
   ]
  },
  {
   "cell_type": "markdown",
   "id": "6dd66242-700b-486f-9381-4a08f962b8d2",
   "metadata": {
    "tags": []
   },
   "source": [
    "### Polars"
   ]
  },
  {
   "cell_type": "code",
   "execution_count": 10,
   "id": "cd9faae3-5974-45b5-8384-cd5b3c556de3",
   "metadata": {
    "tags": []
   },
   "outputs": [
    {
     "name": "stdout",
     "output_type": "stream",
     "text": [
      "CPU times: user 14.9 ms, sys: 7.73 ms, total: 22.6 ms\n",
      "Wall time: 4.4 ms\n"
     ]
    }
   ],
   "source": [
    "%%time\n",
    "pl.read_csv(EARTHQUAKE_DATA);"
   ]
  },
  {
   "cell_type": "markdown",
   "id": "d921d815-ab9f-4b47-b887-20fe68f7f83b",
   "metadata": {},
   "source": [
    "## Advanced Timing with `%timeit` Magic Command \n",
    "\n",
    "- A better approach for performance assessment is by using the `%%timeit`, which is also a cell magic command used to measure the execution time of an entire cell by running it multiple times and report the average execution time. \n",
    "\n",
    "### Pandas"
   ]
  },
  {
   "cell_type": "code",
   "execution_count": 11,
   "id": "b80dfe6d-8b1d-414f-a48d-fdc5ff22edbc",
   "metadata": {},
   "outputs": [
    {
     "name": "stdout",
     "output_type": "stream",
     "text": [
      "16.6 ms ± 1.37 ms per loop (mean ± std. dev. of 7 runs, 100 loops each)\n"
     ]
    }
   ],
   "source": [
    "%%timeit\n",
    "pd.read_csv(EARTHQUAKE_DATA);"
   ]
  },
  {
   "cell_type": "markdown",
   "id": "258e026c-388e-4044-851c-e5efad06b2bb",
   "metadata": {},
   "source": [
    "### Polars"
   ]
  },
  {
   "cell_type": "code",
   "execution_count": 12,
   "id": "466a9f0f-53ed-4329-9820-f6a50e98740c",
   "metadata": {
    "tags": []
   },
   "outputs": [
    {
     "name": "stdout",
     "output_type": "stream",
     "text": [
      "1.97 ms ± 236 µs per loop (mean ± std. dev. of 7 runs, 100 loops each)\n"
     ]
    }
   ],
   "source": [
    "%%timeit\n",
    "pl.read_csv(EARTHQUAKE_DATA);"
   ]
  },
  {
   "cell_type": "markdown",
   "id": "f5c13aa9-9aa6-4cce-bb1b-25f7cb1a283c",
   "metadata": {},
   "source": [
    "## Timing Reading Data Larger Dataset\n",
    "\n",
    "### Pandas"
   ]
  },
  {
   "cell_type": "code",
   "execution_count": 13,
   "id": "e0a0d22a-77dc-467e-ab94-45047d034728",
   "metadata": {
    "tags": []
   },
   "outputs": [
    {
     "name": "stdout",
     "output_type": "stream",
     "text": [
      "Time taken to read the CSV file: 2.1000221 seconds\n"
     ]
    }
   ],
   "source": [
    "# Record the start time\n",
    "start_time = time.time()\n",
    "\n",
    "# Read the CSV file\n",
    "data = pd.read_csv(CITY_TEMPERATURE, low_memory=False)\n",
    "\n",
    "# Record the end time\n",
    "end_time = time.time()\n",
    "\n",
    "# Calculate the execution time\n",
    "pd_execution_time = end_time - start_time\n",
    "\n",
    "print(f\"Time taken to read the CSV file: {pd_execution_time:.7f} seconds\")"
   ]
  },
  {
   "cell_type": "markdown",
   "id": "b10025ee-e98d-4fb7-9dba-bd1a4f0d8628",
   "metadata": {},
   "source": [
    "### Polars "
   ]
  },
  {
   "cell_type": "code",
   "execution_count": 14,
   "id": "5557bd03-b50b-443e-a526-235942bfcd0e",
   "metadata": {
    "tags": []
   },
   "outputs": [
    {
     "name": "stdout",
     "output_type": "stream",
     "text": [
      "Time taken to read the CSV file: 0.2532461 seconds\n"
     ]
    }
   ],
   "source": [
    "# Record the start time\n",
    "start_time = time.time()\n",
    "\n",
    "# Read the CSV file\n",
    "data = pl.read_csv(CITY_TEMPERATURE, low_memory=False)\n",
    "\n",
    "# Record the end time\n",
    "end_time = time.time()\n",
    "\n",
    "# Calculate the execution time\n",
    "pl_execution_time = end_time - start_time\n",
    "\n",
    "print(f\"Time taken to read the CSV file: {pl_execution_time:.7f} seconds\")"
   ]
  },
  {
   "cell_type": "code",
   "execution_count": 15,
   "id": "5b4c327e-c550-4964-a7e2-888f5581c88e",
   "metadata": {
    "tags": []
   },
   "outputs": [
    {
     "name": "stdout",
     "output_type": "stream",
     "text": [
      "The execution time difference: 1.846776008605957\n"
     ]
    }
   ],
   "source": [
    "print(f\"The execution time difference: {pd_execution_time - pl_execution_time}\")"
   ]
  },
  {
   "cell_type": "markdown",
   "id": "fbadf5db-b698-4daf-b7b7-472cda4bdaf6",
   "metadata": {},
   "source": [
    "## Timing Reading Larger Dataset with `%%time`\n",
    "\n",
    "### Pandas"
   ]
  },
  {
   "cell_type": "code",
   "execution_count": 16,
   "id": "187bf1e1-a92e-43bb-956e-21f4e0d9d37d",
   "metadata": {
    "tags": []
   },
   "outputs": [
    {
     "name": "stdout",
     "output_type": "stream",
     "text": [
      "CPU times: user 1.74 s, sys: 364 ms, total: 2.11 s\n",
      "Wall time: 2.11 s\n"
     ]
    }
   ],
   "source": [
    "%%time\n",
    "pd.read_csv(CITY_TEMPERATURE, low_memory=False);"
   ]
  },
  {
   "cell_type": "markdown",
   "id": "0bac5f96-f96f-48e7-9c47-c2d8a6b0b4d1",
   "metadata": {},
   "source": [
    "### Polars "
   ]
  },
  {
   "cell_type": "code",
   "execution_count": 17,
   "id": "9a030b4c-b3e9-4db2-ac3a-3ed928f14980",
   "metadata": {
    "tags": []
   },
   "outputs": [
    {
     "name": "stdout",
     "output_type": "stream",
     "text": [
      "CPU times: user 1.16 s, sys: 230 ms, total: 1.39 s\n",
      "Wall time: 201 ms\n"
     ]
    }
   ],
   "source": [
    "%%time\n",
    "pl.read_csv(CITY_TEMPERATURE, low_memory=False);"
   ]
  },
  {
   "cell_type": "markdown",
   "id": "5ba56318-1bef-4385-925b-f5e19282f086",
   "metadata": {},
   "source": [
    "## Timing Reading Larger Dataset with `%%timeit`\n",
    "\n",
    "### Pandas"
   ]
  },
  {
   "cell_type": "code",
   "execution_count": 18,
   "id": "823a1954-2cac-46d7-9ffa-6ae5090530bf",
   "metadata": {
    "tags": []
   },
   "outputs": [
    {
     "name": "stdout",
     "output_type": "stream",
     "text": [
      "1.98 s ± 65.4 ms per loop (mean ± std. dev. of 7 runs, 1 loop each)\n"
     ]
    }
   ],
   "source": [
    "%%timeit\n",
    "pd.read_csv(CITY_TEMPERATURE, low_memory=False);"
   ]
  },
  {
   "cell_type": "markdown",
   "id": "0ec0dc8d-60bb-4ce4-8ad0-6eecc03a8a7a",
   "metadata": {},
   "source": [
    "### Polars"
   ]
  },
  {
   "cell_type": "code",
   "execution_count": 19,
   "id": "3019d203-e2b5-4301-8040-cd8c6d068783",
   "metadata": {
    "tags": []
   },
   "outputs": [
    {
     "name": "stdout",
     "output_type": "stream",
     "text": [
      "209 ms ± 3.52 ms per loop (mean ± std. dev. of 7 runs, 1 loop each)\n"
     ]
    }
   ],
   "source": [
    "%%timeit\n",
    "pl.read_csv(CITY_TEMPERATURE, low_memory=False);"
   ]
  },
  {
   "cell_type": "markdown",
   "id": "3684aef7-51d8-4cb5-8d9e-c7989989720e",
   "metadata": {},
   "source": [
    "## Timing Reading Data with `PyArrow` Engine for Pandas"
   ]
  },
  {
   "cell_type": "code",
   "execution_count": 20,
   "id": "21950160-047a-44b5-aa89-f1b10b313360",
   "metadata": {
    "tags": []
   },
   "outputs": [
    {
     "name": "stdout",
     "output_type": "stream",
     "text": [
      "370 ms ± 7.02 ms per loop (mean ± std. dev. of 7 runs, 1 loop each)\n"
     ]
    }
   ],
   "source": [
    "%%timeit\n",
    "pd.read_csv(CITY_TEMPERATURE, engine=\"pyarrow\");"
   ]
  },
  {
   "cell_type": "markdown",
   "id": "52601484-4e8f-447a-9df6-ca3dca3561d9",
   "metadata": {},
   "source": [
    "### Changing the Number of Threads for Polars\n",
    "\n",
    "- You can change the number of physical threads used when reading the data using `n_threads` argument. By default, polars uses all the available physical threads. \n",
    "\n",
    "- In this example, we will loop through the available physical CPUs available in the machine. "
   ]
  },
  {
   "cell_type": "code",
   "execution_count": 21,
   "id": "1006a187-1bd7-4ae2-bbf3-cd72ef323718",
   "metadata": {
    "tags": []
   },
   "outputs": [
    {
     "name": "stdout",
     "output_type": "stream",
     "text": [
      "Timing with 1 thread(s):\n",
      "660 ms ± 3.65 ms per loop (mean ± std. dev. of 7 runs, 1 loop each)\n",
      "\n",
      "Timing with 2 thread(s):\n",
      "459 ms ± 24.6 ms per loop (mean ± std. dev. of 7 runs, 1 loop each)\n",
      "\n",
      "Timing with 3 thread(s):\n",
      "424 ms ± 3.84 ms per loop (mean ± std. dev. of 7 runs, 1 loop each)\n",
      "\n",
      "Timing with 4 thread(s):\n",
      "336 ms ± 14.2 ms per loop (mean ± std. dev. of 7 runs, 1 loop each)\n",
      "\n",
      "Timing with 5 thread(s):\n",
      "264 ms ± 3.3 ms per loop (mean ± std. dev. of 7 runs, 1 loop each)\n",
      "\n",
      "Timing with 6 thread(s):\n",
      "286 ms ± 7.07 ms per loop (mean ± std. dev. of 7 runs, 1 loop each)\n",
      "\n"
     ]
    }
   ],
   "source": [
    "for n_thread in range(1, cpu_count+1):\n",
    "    print(f\"Timing with {n_thread} thread(s):\")\n",
    "    %timeit -o pl.read_csv(CITY_TEMPERATURE, n_threads=n_thread)\n",
    "    print()"
   ]
  },
  {
   "cell_type": "markdown",
   "id": "881e3a40-ff08-4d74-8332-a804cd5ae0df",
   "metadata": {},
   "source": [
    "### Get help\n",
    "\n",
    "We used two different cell magic commands and pandas `read_csv()` method, you can get more information about them by checking their documentation\n",
    "\n",
    "\n",
    "```python\n",
    "# Check magic commands documentation\n",
    "%time?\n",
    "%timeit?\n",
    "\n",
    "# Check pd.read_csv docs\n",
    "help(pd.read_csv)            # assuming you imported pandas as pd\n",
    "\n",
    "# Check pl.read_csv docs\n",
    "help(pl.read_csv)            # assuming you imported pandas as pl\n",
    "```"
   ]
  },
  {
   "cell_type": "code",
   "execution_count": null,
   "id": "889cdc44-6fd2-4ea6-97a9-e63040f3aca6",
   "metadata": {},
   "outputs": [],
   "source": []
  }
 ],
 "metadata": {
  "kernelspec": {
   "display_name": "PolarsEnv",
   "language": "python",
   "name": "plenv"
  },
  "language_info": {
   "codemirror_mode": {
    "name": "ipython",
    "version": 3
   },
   "file_extension": ".py",
   "mimetype": "text/x-python",
   "name": "python",
   "nbconvert_exporter": "python",
   "pygments_lexer": "ipython3",
   "version": "3.12.1"
  }
 },
 "nbformat": 4,
 "nbformat_minor": 5
}
