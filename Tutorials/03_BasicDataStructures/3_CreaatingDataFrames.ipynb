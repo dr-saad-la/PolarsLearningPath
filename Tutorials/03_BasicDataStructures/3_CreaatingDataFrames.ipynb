{
 "cells": [
  {
   "cell_type": "markdown",
   "id": "4a699447-f6c2-4385-a32e-4db8f5202d01",
   "metadata": {},
   "source": [
    "<div style=\"text-align:center;font-size:22pt; font-weight:bold;color:white;border:solid black 1.5pt;background-color:#1e7263;\">\n",
    "    Basic Data Structures with Polars  <br> \n",
    "    DataFrames\n",
    "</div>"
   ]
  },
  {
   "cell_type": "code",
   "execution_count": 2,
   "id": "c34b1ebb-1849-4b6c-bbd4-a66919a78008",
   "metadata": {},
   "outputs": [],
   "source": [
    "# ============================================================\n",
    "#                                                            =\n",
    "#             Title: Basic Data Structures with Polars       =\n",
    "#                             Data Frames                    =\n",
    "#             ---------------------------------              =\n",
    "#                                                            =\n",
    "#             Author: Dr. Saad Laouadi                       =\n",
    "#                                                            =\n",
    "#             Copyright: Dr. Saad Laouadi                    =\n",
    "# ============================================================\n",
    "#                                                            =\n",
    "#                       LICENSE                              =\n",
    "#             ----------------------                         =\n",
    "#                                                            =\n",
    "#             This material is intended for educational      =\n",
    "#             purposes only and may not be used directly in  =\n",
    "#             courses, video recordings, or similar          =\n",
    "#             without prior consent from the author.         =\n",
    "#             When using or referencing this material,       =\n",
    "#             proper credit must be attributed to the        =\n",
    "#             author.                                        =\n",
    "# ============================================================"
   ]
  },
  {
   "cell_type": "code",
   "execution_count": 4,
   "id": "7a9be308-bfec-44e1-b2f6-14187eba305e",
   "metadata": {
    "tags": []
   },
   "outputs": [],
   "source": [
    "# Environment Setup\n",
    "import sys\n",
    "sys.path.append('../../scripts/')  \n",
    "\n",
    "# import the working libraries\n",
    "from importlibs import *\n",
    "from utils import install_faker, update_pip"
   ]
  },
  {
   "cell_type": "code",
   "execution_count": 5,
   "id": "889cdc44-6fd2-4ea6-97a9-e63040f3aca6",
   "metadata": {},
   "outputs": [
    {
     "name": "stdout",
     "output_type": "stream",
     "text": [
      "pip is already up-to-date.\n",
      "Faker is already installed. Version: 22.0.0\n"
     ]
    }
   ],
   "source": [
    "update_pip()\n",
    "install_faker()"
   ]
  },
  {
   "cell_type": "markdown",
   "id": "22b48f06-4cf6-4b4e-98d5-b531abc53d2d",
   "metadata": {},
   "source": [
    "## Creating DataFrames with `DataFrame` Constructor "
   ]
  },
  {
   "cell_type": "code",
   "execution_count": null,
   "id": "edf58a05-c25d-4cad-a878-2cbedb36087b",
   "metadata": {},
   "outputs": [],
   "source": []
  },
  {
   "cell_type": "code",
   "execution_count": 10,
   "id": "a79238cd-e4d7-4e2c-86c4-b483d045824c",
   "metadata": {
    "tags": []
   },
   "outputs": [
    {
     "data": {
      "text/html": [
       "<div><style>\n",
       ".dataframe > thead > tr,\n",
       ".dataframe > tbody > tr {\n",
       "  text-align: right;\n",
       "  white-space: pre-wrap;\n",
       "}\n",
       "</style>\n",
       "<small>shape: (5, 4)</small><table border=\"1\" class=\"dataframe\"><thead><tr><th>Var_1</th><th>Var_2</th><th>Var_3</th><th>Var_4</th></tr><tr><td>f32</td><td>f64</td><td>f32</td><td>f64</td></tr></thead><tbody><tr><td>-0.09195</td><td>-1.463351</td><td>1.081792</td><td>-0.239325</td></tr><tr><td>-0.491129</td><td>-1.002272</td><td>0.918822</td><td>-1.103632</td></tr><tr><td>0.626493</td><td>-0.561514</td><td>0.028855</td><td>-0.230767</td></tr><tr><td>0.587752</td><td>0.752318</td><td>-1.058503</td><td>1.055972</td></tr><tr><td>0.74775</td><td>1.064677</td><td>1.52013</td><td>-1.488603</td></tr></tbody></table></div>"
      ],
      "text/plain": [
       "shape: (5, 4)\n",
       "┌───────────┬───────────┬───────────┬───────────┐\n",
       "│ Var_1     ┆ Var_2     ┆ Var_3     ┆ Var_4     │\n",
       "│ ---       ┆ ---       ┆ ---       ┆ ---       │\n",
       "│ f32       ┆ f64       ┆ f32       ┆ f64       │\n",
       "╞═══════════╪═══════════╪═══════════╪═══════════╡\n",
       "│ -0.09195  ┆ -1.463351 ┆ 1.081792  ┆ -0.239325 │\n",
       "│ -0.491129 ┆ -1.002272 ┆ 0.918822  ┆ -1.103632 │\n",
       "│ 0.626493  ┆ -0.561514 ┆ 0.028855  ┆ -0.230767 │\n",
       "│ 0.587752  ┆ 0.752318  ┆ -1.058503 ┆ 1.055972  │\n",
       "│ 0.74775   ┆ 1.064677  ┆ 1.52013   ┆ -1.488603 │\n",
       "└───────────┴───────────┴───────────┴───────────┘"
      ]
     },
     "execution_count": 10,
     "metadata": {},
     "output_type": "execute_result"
    }
   ],
   "source": [
    "# Creating column names (Variables)\n",
    "cols = [\"Var_\" + str(num) for num in range(1, 5)]\n",
    "\n",
    "# Generating Random Data\n",
    "np.random.seed(22)\n",
    "my_data = np.random.normal(size = 60).reshape(15, 4)\n",
    "\n",
    "dtypes = [pl.Float32, pl.Float64, pl.Float32, pl.Float64]\n",
    "schema = {colname:coltype for (colname, coltype) in zip(cols, dtypes)}\n",
    "\n",
    "df = pl.DataFrame(data = my_data, schema=schema)\n",
    "df.head() "
   ]
  },
  {
   "cell_type": "code",
   "execution_count": 11,
   "id": "95ad44f5-106c-460b-8c99-91f6481137af",
   "metadata": {
    "tags": []
   },
   "outputs": [
    {
     "name": "stdout",
     "output_type": "stream",
     "text": [
      "<class 'polars.dataframe.frame.DataFrame'>\n"
     ]
    }
   ],
   "source": [
    "# Examine the type of the df object\n",
    "print(type(df))"
   ]
  },
  {
   "cell_type": "code",
   "execution_count": 15,
   "id": "93813cec-7fb4-4a4e-ab85-e1f7fe491589",
   "metadata": {
    "tags": []
   },
   "outputs": [
    {
     "data": {
      "text/plain": [
       "OrderedDict([('Var_1', Float32),\n",
       "             ('Var_2', Float64),\n",
       "             ('Var_3', Float32),\n",
       "             ('Var_4', Float64)])"
      ]
     },
     "execution_count": 15,
     "metadata": {},
     "output_type": "execute_result"
    }
   ],
   "source": [
    "df.schema"
   ]
  },
  {
   "cell_type": "code",
   "execution_count": null,
   "id": "c8bb9145-9ba9-4ca9-b97e-fce8601cf358",
   "metadata": {},
   "outputs": [],
   "source": []
  },
  {
   "cell_type": "code",
   "execution_count": 12,
   "id": "9a641ace-7b7d-4c95-bee4-f28c0cd3aa8c",
   "metadata": {
    "tags": []
   },
   "outputs": [
    {
     "data": {
      "text/plain": [
       "{'Var1': [12.46, 13.79, 6.1, 20.07, 7.36, 10.89],\n",
       " 'Var2': [20, 30, 40, 20, 10, 10],\n",
       " 'Var3': [3, 2, 1, 2, 2, 2]}"
      ]
     },
     "execution_count": 12,
     "metadata": {},
     "output_type": "execute_result"
    }
   ],
   "source": [
    "# Create a random dictionary \n",
    "np.random.seed(2)\n",
    "data = {'Var1': list(np.round(np.random.normal(loc = 14, scale=3.7, size = 6), 2)), \n",
    "       'Var2': list(np.random.poisson(lam = 3, size = 6)*10), \n",
    "       'Var3': list(np.random.binomial(n = 5, p = 0.5, size = 6))}\n",
    "# np.random.binomial()\n",
    "# Display the dict object \n",
    "data"
   ]
  },
  {
   "cell_type": "code",
   "execution_count": 13,
   "id": "19a007f8-f0fe-477c-a73d-7727c8ba4bf9",
   "metadata": {
    "tags": []
   },
   "outputs": [
    {
     "data": {
      "text/html": [
       "<div><style>\n",
       ".dataframe > thead > tr,\n",
       ".dataframe > tbody > tr {\n",
       "  text-align: right;\n",
       "  white-space: pre-wrap;\n",
       "}\n",
       "</style>\n",
       "<small>shape: (6, 3)</small><table border=\"1\" class=\"dataframe\"><thead><tr><th>Var1</th><th>Var2</th><th>Var3</th></tr><tr><td>f64</td><td>i64</td><td>i64</td></tr></thead><tbody><tr><td>12.46</td><td>20</td><td>3</td></tr><tr><td>13.79</td><td>30</td><td>2</td></tr><tr><td>6.1</td><td>40</td><td>1</td></tr><tr><td>20.07</td><td>20</td><td>2</td></tr><tr><td>7.36</td><td>10</td><td>2</td></tr><tr><td>10.89</td><td>10</td><td>2</td></tr></tbody></table></div>"
      ],
      "text/plain": [
       "shape: (6, 3)\n",
       "┌───────┬──────┬──────┐\n",
       "│ Var1  ┆ Var2 ┆ Var3 │\n",
       "│ ---   ┆ ---  ┆ ---  │\n",
       "│ f64   ┆ i64  ┆ i64  │\n",
       "╞═══════╪══════╪══════╡\n",
       "│ 12.46 ┆ 20   ┆ 3    │\n",
       "│ 13.79 ┆ 30   ┆ 2    │\n",
       "│ 6.1   ┆ 40   ┆ 1    │\n",
       "│ 20.07 ┆ 20   ┆ 2    │\n",
       "│ 7.36  ┆ 10   ┆ 2    │\n",
       "│ 10.89 ┆ 10   ┆ 2    │\n",
       "└───────┴──────┴──────┘"
      ]
     },
     "execution_count": 13,
     "metadata": {},
     "output_type": "execute_result"
    }
   ],
   "source": [
    "# Construct a dataframe object from the dict object\n",
    "df_from_dict = pl.DataFrame(data)\n",
    "df_from_dict"
   ]
  },
  {
   "cell_type": "code",
   "execution_count": 14,
   "id": "796390a5-df53-4fcc-9b00-b56cc01b4e60",
   "metadata": {
    "tags": []
   },
   "outputs": [
    {
     "data": {
      "text/plain": [
       "OrderedDict([('Var1', Float64), ('Var2', Int64), ('Var3', Int64)])"
      ]
     },
     "execution_count": 14,
     "metadata": {},
     "output_type": "execute_result"
    }
   ],
   "source": [
    "df_from_dict.schema"
   ]
  },
  {
   "cell_type": "code",
   "execution_count": null,
   "id": "25436179-f600-4fc4-8c09-47dd1d1a3dbb",
   "metadata": {},
   "outputs": [],
   "source": []
  },
  {
   "cell_type": "code",
   "execution_count": 7,
   "id": "9e5aaf04-fef0-4e68-a591-ac574baad15e",
   "metadata": {
    "tags": []
   },
   "outputs": [
    {
     "name": "stdout",
     "output_type": "stream",
     "text": [
      "shape: (6, 3)\n",
      "┌─────────────────┬──────────────────────────────────┬───────────────┐\n",
      "│ Cities          ┆ Countries                        ┆ Country_codes │\n",
      "│ ---             ┆ ---                              ┆ ---           │\n",
      "│ str             ┆ str                              ┆ str           │\n",
      "╞═════════════════╪══════════════════════════════════╪═══════════════╡\n",
      "│ Glennmouth      ┆ Palau                            ┆ AL            │\n",
      "│ Romeroshire     ┆ Saint Vincent and the Grenadines ┆ SM            │\n",
      "│ East Linda      ┆ Nicaragua                        ┆ BI            │\n",
      "│ Sotoburgh       ┆ Pakistan                         ┆ BH            │\n",
      "│ South Kevinland ┆ Cayman Islands                   ┆ AZ            │\n",
      "│ New Tinamouth   ┆ Nigeria                          ┆ ET            │\n",
      "└─────────────────┴──────────────────────────────────┴───────────────┘\n"
     ]
    }
   ],
   "source": [
    "# Generate fake data \n",
    "from faker import Faker\n",
    "fake = Faker()\n",
    "\n",
    "\n",
    "# Set the seed\n",
    "fake.seed_instance(11)\n",
    "\n",
    "# Generate a random data in a dict object\n",
    "data = {\"Cities\": [fake.city() for i in range(6)],\n",
    "        \"Countries\": [fake.country() for i in range(6)],\n",
    "        \"Country_codes\": [fake.country_code() for i in range(6)]\n",
    "       }\n",
    "\n",
    "# Construct a data frame object \n",
    "data_df = pl.DataFrame(data)\n",
    "\n",
    "# Display the data frame object\n",
    "print(data_df)"
   ]
  },
  {
   "cell_type": "code",
   "execution_count": 9,
   "id": "a73f6ba6-b80b-4d6a-81e9-52245c12829e",
   "metadata": {
    "tags": []
   },
   "outputs": [
    {
     "name": "stdout",
     "output_type": "stream",
     "text": [
      "OrderedDict({'Cities': Utf8, 'Countries': Utf8, 'Country_codes': Utf8})\n"
     ]
    }
   ],
   "source": [
    "print(data_df.schema)"
   ]
  },
  {
   "cell_type": "code",
   "execution_count": null,
   "id": "33306d0b-5348-4a32-ae78-1bfe3a7a7000",
   "metadata": {
    "tags": []
   },
   "outputs": [],
   "source": []
  },
  {
   "cell_type": "code",
   "execution_count": 12,
   "id": "d630fc7e-93bd-4770-a951-0f5a4082e330",
   "metadata": {
    "tags": []
   },
   "outputs": [],
   "source": [
    "# Generate a random list of lists\n",
    "import random\n",
    "fake.seed_instance(11)\n",
    "lst_of_lsts = [\n",
    "    fake.pylist(nb_elements=10,\n",
    "                variable_nb_elements = False, \n",
    "                value_types='int') for i in range(5)]\n",
    "\n",
    "\n",
    "# Generate random Keys\n",
    "random.seed(11)\n",
    "keys = fake.words(nb = 5)\n",
    "keys = [key.title() for key in keys]\n",
    "\n",
    "# Create a dictionary whose values are lists\n",
    "d_lst = {k:v for k, v in zip(keys, lst_of_lsts)}"
   ]
  },
  {
   "cell_type": "code",
   "execution_count": 13,
   "id": "a5a535be-d050-4215-98c4-01736abae56d",
   "metadata": {
    "tags": []
   },
   "outputs": [
    {
     "data": {
      "text/plain": [
       "{'Politics': [9171, 7402, 3025, 3050, 7316, 2323, 8825, 9755, 7421, 245],\n",
       " 'Beyond': [975, 3116, 9824, 7601, 7217, 8505, 4819, 75, 7492, 6664],\n",
       " 'Writer': [4161, 3762, 487, 9226, 6560, 4766, 1094, 8, 3436, 7700],\n",
       " 'Degree': [6511, 1196, 4420, 1427, 5449, 6718, 2205, 1655, 981, 7976],\n",
       " 'Election': [9163, 7330, 2145, 6287, 6469, 3487, 4420, 321, 3068, 9863]}"
      ]
     },
     "execution_count": 13,
     "metadata": {},
     "output_type": "execute_result"
    }
   ],
   "source": [
    "d_lst"
   ]
  },
  {
   "cell_type": "code",
   "execution_count": 14,
   "id": "b57046db-6a13-492e-8e45-7fdb292c3238",
   "metadata": {
    "tags": []
   },
   "outputs": [
    {
     "data": {
      "text/html": [
       "<div><style>\n",
       ".dataframe > thead > tr,\n",
       ".dataframe > tbody > tr {\n",
       "  text-align: right;\n",
       "  white-space: pre-wrap;\n",
       "}\n",
       "</style>\n",
       "<small>shape: (10, 5)</small><table border=\"1\" class=\"dataframe\"><thead><tr><th>Politics</th><th>Beyond</th><th>Writer</th><th>Degree</th><th>Election</th></tr><tr><td>i64</td><td>i64</td><td>i64</td><td>i64</td><td>i64</td></tr></thead><tbody><tr><td>9171</td><td>975</td><td>4161</td><td>6511</td><td>9163</td></tr><tr><td>7402</td><td>3116</td><td>3762</td><td>1196</td><td>7330</td></tr><tr><td>3025</td><td>9824</td><td>487</td><td>4420</td><td>2145</td></tr><tr><td>3050</td><td>7601</td><td>9226</td><td>1427</td><td>6287</td></tr><tr><td>7316</td><td>7217</td><td>6560</td><td>5449</td><td>6469</td></tr><tr><td>2323</td><td>8505</td><td>4766</td><td>6718</td><td>3487</td></tr><tr><td>8825</td><td>4819</td><td>1094</td><td>2205</td><td>4420</td></tr><tr><td>9755</td><td>75</td><td>8</td><td>1655</td><td>321</td></tr><tr><td>7421</td><td>7492</td><td>3436</td><td>981</td><td>3068</td></tr><tr><td>245</td><td>6664</td><td>7700</td><td>7976</td><td>9863</td></tr></tbody></table></div>"
      ],
      "text/plain": [
       "shape: (10, 5)\n",
       "┌──────────┬────────┬────────┬────────┬──────────┐\n",
       "│ Politics ┆ Beyond ┆ Writer ┆ Degree ┆ Election │\n",
       "│ ---      ┆ ---    ┆ ---    ┆ ---    ┆ ---      │\n",
       "│ i64      ┆ i64    ┆ i64    ┆ i64    ┆ i64      │\n",
       "╞══════════╪════════╪════════╪════════╪══════════╡\n",
       "│ 9171     ┆ 975    ┆ 4161   ┆ 6511   ┆ 9163     │\n",
       "│ 7402     ┆ 3116   ┆ 3762   ┆ 1196   ┆ 7330     │\n",
       "│ 3025     ┆ 9824   ┆ 487    ┆ 4420   ┆ 2145     │\n",
       "│ 3050     ┆ 7601   ┆ 9226   ┆ 1427   ┆ 6287     │\n",
       "│ …        ┆ …      ┆ …      ┆ …      ┆ …        │\n",
       "│ 8825     ┆ 4819   ┆ 1094   ┆ 2205   ┆ 4420     │\n",
       "│ 9755     ┆ 75     ┆ 8      ┆ 1655   ┆ 321      │\n",
       "│ 7421     ┆ 7492   ┆ 3436   ┆ 981    ┆ 3068     │\n",
       "│ 245      ┆ 6664   ┆ 7700   ┆ 7976   ┆ 9863     │\n",
       "└──────────┴────────┴────────┴────────┴──────────┘"
      ]
     },
     "execution_count": 14,
     "metadata": {},
     "output_type": "execute_result"
    }
   ],
   "source": [
    "pl.DataFrame(d_lst)"
   ]
  },
  {
   "cell_type": "code",
   "execution_count": null,
   "id": "87bfd89b-5bf1-4dac-be8a-738ca048fe17",
   "metadata": {},
   "outputs": [],
   "source": []
  },
  {
   "cell_type": "code",
   "execution_count": 18,
   "id": "e09c122a-1bfd-459a-b045-2cbe40b27f89",
   "metadata": {
    "tags": []
   },
   "outputs": [
    {
     "name": "stdout",
     "output_type": "stream",
     "text": [
      "shape: (1, 5)\n",
      "┌───────────┬──────┬──────┬───────┬────────┐\n",
      "│ community ┆ kid  ┆ road ┆ prove ┆ father │\n",
      "│ ---       ┆ ---  ┆ ---  ┆ ---   ┆ ---    │\n",
      "│ i64       ┆ i64  ┆ i64  ┆ i64   ┆ i64    │\n",
      "╞═══════════╪══════╪══════╪═══════╪════════╡\n",
      "│ 3539      ┆ 8396 ┆ 8275 ┆ 52    ┆ 6079   │\n",
      "└───────────┴──────┴──────┴───────┴────────┘\n"
     ]
    }
   ],
   "source": [
    "# Generate random data\n",
    "# Set the seed\n",
    "fake.seed_instance(21)\n",
    "\n",
    "# Generate a random dict object \n",
    "rnd_dict = fake.pydict(nb_elements = 5, \n",
    "                       variable_nb_elements = False, \n",
    "                       value_types='int')\n",
    "\n",
    "# Construct a dataframe\n",
    "rnd_df = pl.DataFrame(rnd_dict)\n",
    "\n",
    "# Display the dataframe object\n",
    "print(rnd_df)"
   ]
  },
  {
   "cell_type": "code",
   "execution_count": null,
   "id": "c6775214-843d-4dfe-ad40-cf816c57a46c",
   "metadata": {},
   "outputs": [],
   "source": []
  },
  {
   "cell_type": "code",
   "execution_count": 16,
   "id": "5025072f-894a-414f-921c-1cd5f2543b99",
   "metadata": {
    "tags": []
   },
   "outputs": [
    {
     "data": {
      "text/html": [
       "<div><style>\n",
       ".dataframe > thead > tr,\n",
       ".dataframe > tbody > tr {\n",
       "  text-align: right;\n",
       "  white-space: pre-wrap;\n",
       "}\n",
       "</style>\n",
       "<small>shape: (10, 6)</small><table border=\"1\" class=\"dataframe\"><thead><tr><th>Michael Reid</th><th>Daniel Sparks</th><th>Kayla Wagner</th><th>Aaron Watson</th><th>Andrea Leon</th><th>David Williams</th></tr><tr><td>i64</td><td>i64</td><td>i64</td><td>i64</td><td>i64</td><td>i64</td></tr></thead><tbody><tr><td>7239</td><td>3848</td><td>6333</td><td>4026</td><td>2659</td><td>809</td></tr><tr><td>5389</td><td>3233</td><td>439</td><td>2763</td><td>7196</td><td>2287</td></tr><tr><td>1897</td><td>9515</td><td>2604</td><td>2851</td><td>7916</td><td>463</td></tr><tr><td>380</td><td>2006</td><td>46</td><td>6141</td><td>4718</td><td>5992</td></tr><tr><td>1449</td><td>9157</td><td>1148</td><td>601</td><td>4226</td><td>6041</td></tr><tr><td>320</td><td>3294</td><td>9363</td><td>6668</td><td>569</td><td>7937</td></tr><tr><td>2639</td><td>2394</td><td>9117</td><td>9675</td><td>4072</td><td>5045</td></tr><tr><td>6575</td><td>4783</td><td>2960</td><td>5678</td><td>6463</td><td>8754</td></tr><tr><td>2475</td><td>7394</td><td>5705</td><td>8292</td><td>5539</td><td>2282</td></tr><tr><td>608</td><td>5209</td><td>5678</td><td>4050</td><td>2477</td><td>6264</td></tr></tbody></table></div>"
      ],
      "text/plain": [
       "shape: (10, 6)\n",
       "┌──────────────┬───────────────┬──────────────┬──────────────┬─────────────┬────────────────┐\n",
       "│ Michael Reid ┆ Daniel Sparks ┆ Kayla Wagner ┆ Aaron Watson ┆ Andrea Leon ┆ David Williams │\n",
       "│ ---          ┆ ---           ┆ ---          ┆ ---          ┆ ---         ┆ ---            │\n",
       "│ i64          ┆ i64           ┆ i64          ┆ i64          ┆ i64         ┆ i64            │\n",
       "╞══════════════╪═══════════════╪══════════════╪══════════════╪═════════════╪════════════════╡\n",
       "│ 7239         ┆ 3848          ┆ 6333         ┆ 4026         ┆ 2659        ┆ 809            │\n",
       "│ 5389         ┆ 3233          ┆ 439          ┆ 2763         ┆ 7196        ┆ 2287           │\n",
       "│ 1897         ┆ 9515          ┆ 2604         ┆ 2851         ┆ 7916        ┆ 463            │\n",
       "│ 380          ┆ 2006          ┆ 46           ┆ 6141         ┆ 4718        ┆ 5992           │\n",
       "│ …            ┆ …             ┆ …            ┆ …            ┆ …           ┆ …              │\n",
       "│ 2639         ┆ 2394          ┆ 9117         ┆ 9675         ┆ 4072        ┆ 5045           │\n",
       "│ 6575         ┆ 4783          ┆ 2960         ┆ 5678         ┆ 6463        ┆ 8754           │\n",
       "│ 2475         ┆ 7394          ┆ 5705         ┆ 8292         ┆ 5539        ┆ 2282           │\n",
       "│ 608          ┆ 5209          ┆ 5678         ┆ 4050         ┆ 2477        ┆ 6264           │\n",
       "└──────────────┴───────────────┴──────────────┴──────────────┴─────────────┴────────────────┘"
      ]
     },
     "execution_count": 16,
     "metadata": {},
     "output_type": "execute_result"
    }
   ],
   "source": [
    "# Generate random data\n",
    "fake.seed_instance(21)\n",
    "rnd_dict = {k:v for k, v in zip([fake.name() for i in range(6)],\n",
    "                      [fake.pylist(nb_elements=10, variable_nb_elements=False, \n",
    "                                  value_types='int') for i in range(10)])}\n",
    "\n",
    "rnd_df = pl.DataFrame(rnd_dict)\n",
    "rnd_df"
   ]
  },
  {
   "cell_type": "code",
   "execution_count": null,
   "id": "1464e267-08c2-4c28-a338-c90fca098f25",
   "metadata": {},
   "outputs": [],
   "source": []
  },
  {
   "cell_type": "code",
   "execution_count": null,
   "id": "26bd4ef6-260e-4cef-be8b-3c9cc04818a9",
   "metadata": {},
   "outputs": [],
   "source": []
  },
  {
   "cell_type": "code",
   "execution_count": 20,
   "id": "ad02558e-087f-499f-9941-28dd8485328a",
   "metadata": {
    "tags": []
   },
   "outputs": [
    {
     "name": "stdout",
     "output_type": "stream",
     "text": [
      "shape: (10, 3)\n",
      "┌─────────┬──────┬────────┐\n",
      "│ ocuntry ┆ Year ┆ GPD    │\n",
      "│ ---     ┆ ---  ┆ ---    │\n",
      "│ str     ┆ i64  ┆ f64    │\n",
      "╞═════════╪══════╪════════╡\n",
      "│ England ┆ 2018 ┆ 2000.0 │\n",
      "│ England ┆ 2019 ┆ 2500.0 │\n",
      "│ England ┆ 2020 ┆ 3000.0 │\n",
      "│ Japan   ┆ 2018 ┆ 5000.0 │\n",
      "│ …       ┆ …    ┆ …      │\n",
      "│ Germany ┆ 2019 ┆ 4500.0 │\n",
      "│ Germany ┆ 2020 ┆ 5000.0 │\n",
      "│ Germany ┆ 2021 ┆ 5500.0 │\n",
      "│ Germany ┆ 2022 ┆ 6000.0 │\n",
      "└─────────┴──────┴────────┘\n"
     ]
    }
   ],
   "source": [
    "data = dict(ocuntry = list(np.repeat(\"England\", repeats = 3)) + \\\n",
    "                        list(np.repeat(\"Japan\", repeats = 2)) + \\\n",
    "                        list(np.repeat(\"Germany\", repeats = 5)),\n",
    "            Year = [*range(2018, 2021)] + \\\n",
    "                    [*range(2018, 2020)] + \\\n",
    "                    [*range(2018, 2023)],\n",
    "            GPD = list(np.linspace(2000, 3000, num = 3 )) + \\\n",
    "                  list(np.linspace(5000, 6000, num = 2 )) + \\\n",
    "                  list(np.linspace(4000, 6000, num = 5 )))\n",
    "\n",
    "# Create a data frame\n",
    "df = pl.DataFrame(data)\n",
    "\n",
    "# Print the data frame\n",
    "print(df)"
   ]
  },
  {
   "cell_type": "markdown",
   "id": "99b9f9d1-c4b2-4e4f-9807-0f5bd470e2b6",
   "metadata": {},
   "source": [
    "## Creating Polars DataFrame from Pandas DataFrame "
   ]
  },
  {
   "cell_type": "code",
   "execution_count": 29,
   "id": "bc689fc4-45ce-49be-933c-99803ab48fc6",
   "metadata": {
    "tags": []
   },
   "outputs": [
    {
     "data": {
      "text/html": [
       "<div><style>\n",
       ".dataframe > thead > tr,\n",
       ".dataframe > tbody > tr {\n",
       "  text-align: right;\n",
       "  white-space: pre-wrap;\n",
       "}\n",
       "</style>\n",
       "<small>shape: (10, 13)</small><table border=\"1\" class=\"dataframe\"><thead><tr><th>job</th><th>company</th><th>ssn</th><th>residence</th><th>current_location</th><th>blood_group</th><th>website</th><th>username</th><th>name</th><th>sex</th><th>address</th><th>mail</th><th>birthdate</th></tr><tr><td>str</td><td>str</td><td>str</td><td>str</td><td>list[f64]</td><td>str</td><td>list[str]</td><td>str</td><td>str</td><td>str</td><td>str</td><td>str</td><td>date</td></tr></thead><tbody><tr><td>&quot;Banker&quot;</td><td>&quot;Miller and Son…</td><td>&quot;754-86-5049&quot;</td><td>&quot;092 Little Uni…</td><td>[-80.356638, -165.265656]</td><td>&quot;AB-&quot;</td><td>[&quot;https://snow-fox.net/&quot;, &quot;http://www.johnson.com/&quot;, … &quot;https://pollard-hayden.com/&quot;]</td><td>&quot;framirez&quot;</td><td>&quot;Joel Moreno&quot;</td><td>&quot;M&quot;</td><td>&quot;775 Tucker For…</td><td>&quot;ncollins@yahoo…</td><td>1967-05-24</td></tr><tr><td>&quot;Youth worker&quot;</td><td>&quot;Mueller LLC&quot;</td><td>&quot;744-02-3136&quot;</td><td>&quot;Unit 1090 Box …</td><td>[-18.638796, -48.556833]</td><td>&quot;B-&quot;</td><td>[&quot;https://www.cox.com/&quot;]</td><td>&quot;watsondavid&quot;</td><td>&quot;Tiffany Johnso…</td><td>&quot;F&quot;</td><td>&quot;USNS Mills\n",
       "FPO…</td><td>&quot;bauerjohn@gmai…</td><td>1908-07-01</td></tr><tr><td>&quot;Warden/ranger&quot;</td><td>&quot;Newton, Wilson…</td><td>&quot;032-40-7351&quot;</td><td>&quot;6927 Clarence …</td><td>[49.126367, 134.045698]</td><td>&quot;O+&quot;</td><td>[&quot;https://www.green-obrien.biz/&quot;, &quot;http://www.brown.com/&quot;, … &quot;http://king.com/&quot;]</td><td>&quot;hernandezpaul&quot;</td><td>&quot;Jay Fox&quot;</td><td>&quot;M&quot;</td><td>&quot;11023 Jeff Pik…</td><td>&quot;gailhodges@gma…</td><td>1992-07-27</td></tr><tr><td>&quot;Politician&#x27;s a…</td><td>&quot;Hunt-Perkins&quot;</td><td>&quot;053-54-8603&quot;</td><td>&quot;750 Cheryl Hig…</td><td>[-7.879592, -73.489453]</td><td>&quot;A+&quot;</td><td>[&quot;http://tucker.com/&quot;, &quot;http://watson.com/&quot;, … &quot;https://www.foster-martinez.com/&quot;]</td><td>&quot;heatherjohnson…</td><td>&quot;Sarah Davidson…</td><td>&quot;F&quot;</td><td>&quot;745 Thomas Lan…</td><td>&quot;rfrederick@yah…</td><td>1953-10-17</td></tr><tr><td>&quot;Designer, grap…</td><td>&quot;Carlson-Dunn&quot;</td><td>&quot;713-87-1382&quot;</td><td>&quot;52826 Lauren S…</td><td>[-1.573427, 55.603566]</td><td>&quot;B+&quot;</td><td>[&quot;http://www.hatfield.com/&quot;, &quot;http://jacobson.com/&quot;, &quot;https://daniel.org/&quot;]</td><td>&quot;qhill&quot;</td><td>&quot;Christopher Di…</td><td>&quot;M&quot;</td><td>&quot;758 Reeves Sho…</td><td>&quot;edwardsalexand…</td><td>1983-06-04</td></tr><tr><td>&quot;Chief Marketin…</td><td>&quot;Powell and Son…</td><td>&quot;747-73-9936&quot;</td><td>&quot;68349 Tracy Ri…</td><td>[-21.900311, 95.651652]</td><td>&quot;B+&quot;</td><td>[&quot;http://www.smith-washington.com/&quot;, &quot;https://adams-shaw.com/&quot;, … &quot;http://www.porter.com/&quot;]</td><td>&quot;austin69&quot;</td><td>&quot;Kristin Rasmus…</td><td>&quot;F&quot;</td><td>&quot;2784 Jonathan …</td><td>&quot;laurenfuller@y…</td><td>1912-10-06</td></tr><tr><td>&quot;Programmer, sy…</td><td>&quot;Hall, Ramirez …</td><td>&quot;115-87-6214&quot;</td><td>&quot;5157 Jackson M…</td><td>[28.647527, 163.393493]</td><td>&quot;B-&quot;</td><td>[&quot;https://www.barron.com/&quot;, &quot;https://www.taylor-taylor.com/&quot;, &quot;https://peterson.net/&quot;]</td><td>&quot;amanda15&quot;</td><td>&quot;Paul Booth&quot;</td><td>&quot;M&quot;</td><td>&quot;45771 Leslie L…</td><td>&quot;usmith@gmail.c…</td><td>2003-09-21</td></tr><tr><td>&quot;Therapist, mus…</td><td>&quot;Weaver-Harriso…</td><td>&quot;155-47-5184&quot;</td><td>&quot;23542 Ward Cor…</td><td>[-42.359901, -146.144115]</td><td>&quot;O+&quot;</td><td>[&quot;https://www.mills-bruce.com/&quot;, &quot;https://www.long.info/&quot;, … &quot;https://www.cruz-chavez.com/&quot;]</td><td>&quot;longstephen&quot;</td><td>&quot;Mr. Timothy Fr…</td><td>&quot;M&quot;</td><td>&quot;53202 Santiago…</td><td>&quot;heatherweaver@…</td><td>1931-03-03</td></tr><tr><td>&quot;Accounting tec…</td><td>&quot;Morgan, Rice a…</td><td>&quot;381-63-0025&quot;</td><td>&quot;17309 Connie J…</td><td>[-46.245894, 94.325648]</td><td>&quot;A-&quot;</td><td>[&quot;http://www.harris-peterson.com/&quot;, &quot;https://www.edwards-evans.com/&quot;]</td><td>&quot;jermaine28&quot;</td><td>&quot;Diane Cannon&quot;</td><td>&quot;F&quot;</td><td>&quot;833 Peter Cany…</td><td>&quot;vfernandez@gma…</td><td>2004-12-05</td></tr><tr><td>&quot;Therapist, spo…</td><td>&quot;Johnson-Gonzal…</td><td>&quot;111-18-8918&quot;</td><td>&quot;PSC 1743, Box …</td><td>[20.779751, 43.046518]</td><td>&quot;A+&quot;</td><td>[&quot;https://www.park.com/&quot;, &quot;https://medina-long.net/&quot;, … &quot;https://salazar-gilbert.org/&quot;]</td><td>&quot;kyle25&quot;</td><td>&quot;Pedro Horn&quot;</td><td>&quot;M&quot;</td><td>&quot;99243 Garcia T…</td><td>&quot;barnesmartha@g…</td><td>1940-10-18</td></tr></tbody></table></div>"
      ],
      "text/plain": [
       "shape: (10, 13)\n",
       "┌────────────┬────────────┬────────────┬────────────┬───┬─────┬────────────┬───────────┬───────────┐\n",
       "│ job        ┆ company    ┆ ssn        ┆ residence  ┆ … ┆ sex ┆ address    ┆ mail      ┆ birthdate │\n",
       "│ ---        ┆ ---        ┆ ---        ┆ ---        ┆   ┆ --- ┆ ---        ┆ ---       ┆ ---       │\n",
       "│ str        ┆ str        ┆ str        ┆ str        ┆   ┆ str ┆ str        ┆ str       ┆ date      │\n",
       "╞════════════╪════════════╪════════════╪════════════╪═══╪═════╪════════════╪═══════════╪═══════════╡\n",
       "│ Banker     ┆ Miller and ┆ 754-86-504 ┆ 092 Little ┆ … ┆ M   ┆ 775 Tucker ┆ ncollins@ ┆ 1967-05-2 │\n",
       "│            ┆ Sons       ┆ 9          ┆ Unions     ┆   ┆     ┆ Forges     ┆ yahoo.com ┆ 4         │\n",
       "│            ┆            ┆            ┆ Amymouth,  ┆   ┆     ┆ Suite 294  ┆           ┆           │\n",
       "│            ┆            ┆            ┆ NY 3…      ┆   ┆     ┆ Coll…      ┆           ┆           │\n",
       "│ Youth      ┆ Mueller    ┆ 744-02-313 ┆ Unit 1090  ┆ … ┆ F   ┆ USNS Mills ┆ bauerjohn ┆ 1908-07-0 │\n",
       "│ worker     ┆ LLC        ┆ 6          ┆ Box 4931   ┆   ┆     ┆ FPO AE     ┆ @gmail.co ┆ 1         │\n",
       "│            ┆            ┆            ┆ DPO AP     ┆   ┆     ┆ 51037      ┆ m         ┆           │\n",
       "│            ┆            ┆            ┆ 18392      ┆   ┆     ┆            ┆           ┆           │\n",
       "│ Warden/ran ┆ Newton,    ┆ 032-40-735 ┆ 6927       ┆ … ┆ M   ┆ 11023 Jeff ┆ gailhodge ┆ 1992-07-2 │\n",
       "│ ger        ┆ Wilson and ┆ 1          ┆ Clarence   ┆   ┆     ┆ Pike       ┆ s@gmail.c ┆ 7         │\n",
       "│            ┆ Rogers     ┆            ┆ Spur       ┆   ┆     ┆ Chavezside ┆ om        ┆           │\n",
       "│            ┆            ┆            ┆ Marytown,  ┆   ┆     ┆ , SD 5…    ┆           ┆           │\n",
       "│            ┆            ┆            ┆ NV …       ┆   ┆     ┆            ┆           ┆           │\n",
       "│ Politician ┆ Hunt-Perki ┆ 053-54-860 ┆ 750 Cheryl ┆ … ┆ F   ┆ 745 Thomas ┆ rfrederic ┆ 1953-10-1 │\n",
       "│ 's         ┆ ns         ┆ 3          ┆ Highway    ┆   ┆     ┆ Landing    ┆ k@yahoo.c ┆ 7         │\n",
       "│ assistant  ┆            ┆            ┆ Kylecheste ┆   ┆     ┆ Toddfort,  ┆ om        ┆           │\n",
       "│            ┆            ┆            ┆ r, …       ┆   ┆     ┆ VA …       ┆           ┆           │\n",
       "│ …          ┆ …          ┆ …          ┆ …          ┆ … ┆ …   ┆ …          ┆ …         ┆ …         │\n",
       "│ Programmer ┆ Hall,      ┆ 115-87-621 ┆ 5157       ┆ … ┆ M   ┆ 45771      ┆ usmith@gm ┆ 2003-09-2 │\n",
       "│ , systems  ┆ Ramirez    ┆ 4          ┆ Jackson    ┆   ┆     ┆ Leslie     ┆ ail.com   ┆ 1         │\n",
       "│            ┆ and        ┆            ┆ Mills      ┆   ┆     ┆ Light Apt. ┆           ┆           │\n",
       "│            ┆ Rosario    ┆            ┆ Stevenberg ┆   ┆     ┆ 015        ┆           ┆           │\n",
       "│            ┆            ┆            ┆ , P…       ┆   ┆     ┆ West…      ┆           ┆           │\n",
       "│ Therapist, ┆ Weaver-Har ┆ 155-47-518 ┆ 23542 Ward ┆ … ┆ M   ┆ 53202      ┆ heatherwe ┆ 1931-03-0 │\n",
       "│ music      ┆ rison      ┆ 4          ┆ Corners    ┆   ┆     ┆ Santiago   ┆ aver@gmai ┆ 3         │\n",
       "│            ┆            ┆            ┆ Suite 333  ┆   ┆     ┆ Course     ┆ l.com     ┆           │\n",
       "│            ┆            ┆            ┆ Wes…       ┆   ┆     ┆ Suite 707  ┆           ┆           │\n",
       "│            ┆            ┆            ┆            ┆   ┆     ┆ …          ┆           ┆           │\n",
       "│ Accounting ┆ Morgan,    ┆ 381-63-002 ┆ 17309      ┆ … ┆ F   ┆ 833 Peter  ┆ vfernande ┆ 2004-12-0 │\n",
       "│ technician ┆ Rice and   ┆ 5          ┆ Connie     ┆   ┆     ┆ Canyon     ┆ z@gmail.c ┆ 5         │\n",
       "│            ┆ Allen      ┆            ┆ Junction   ┆   ┆     ┆ Lake       ┆ om        ┆           │\n",
       "│            ┆            ┆            ┆ Stronghave ┆   ┆     ┆ Andrew,    ┆           ┆           │\n",
       "│            ┆            ┆            ┆ …          ┆   ┆     ┆ KS…        ┆           ┆           │\n",
       "│ Therapist, ┆ Johnson-Go ┆ 111-18-891 ┆ PSC 1743,  ┆ … ┆ M   ┆ 99243      ┆ barnesmar ┆ 1940-10-1 │\n",
       "│ sports     ┆ nzalez     ┆ 8          ┆ Box 2548   ┆   ┆     ┆ Garcia     ┆ tha@gmail ┆ 8         │\n",
       "│            ┆            ┆            ┆ APO AP     ┆   ┆     ┆ Turnpike   ┆ .com      ┆           │\n",
       "│            ┆            ┆            ┆ 09352      ┆   ┆     ┆ Apt. 350   ┆           ┆           │\n",
       "│            ┆            ┆            ┆            ┆   ┆     ┆ A…         ┆           ┆           │\n",
       "└────────────┴────────────┴────────────┴────────────┴───┴─────┴────────────┴───────────┴───────────┘"
      ]
     },
     "execution_count": 29,
     "metadata": {},
     "output_type": "execute_result"
    }
   ],
   "source": [
    "fake.seed_instance(2)\n",
    "data = [fake.profile() for _ in range(10)]\n",
    "data = pd.DataFrame(data)\n",
    "\n",
    "\n",
    "pl.DataFrame(data)"
   ]
  },
  {
   "cell_type": "code",
   "execution_count": null,
   "id": "ad0c74ba-10fe-4228-af91-996d1b957938",
   "metadata": {},
   "outputs": [],
   "source": []
  }
 ],
 "metadata": {
  "kernelspec": {
   "display_name": "PolarsEnv",
   "language": "python",
   "name": "plenv"
  },
  "language_info": {
   "codemirror_mode": {
    "name": "ipython",
    "version": 3
   },
   "file_extension": ".py",
   "mimetype": "text/x-python",
   "name": "python",
   "nbconvert_exporter": "python",
   "pygments_lexer": "ipython3",
   "version": "3.12.1"
  }
 },
 "nbformat": 4,
 "nbformat_minor": 5
}
