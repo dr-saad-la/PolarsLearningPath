{
 "cells": [
  {
   "cell_type": "markdown",
   "id": "4a699447-f6c2-4385-a32e-4db8f5202d01",
   "metadata": {},
   "source": [
    "<div style=\"text-align:center;font-size:22pt; font-weight:bold;color:white;border:solid black 1.5pt;background-color:#1e7263;\">\n",
    "    Basic Data Structures with Polars  <br> \n",
    "    Series\n",
    "</div>"
   ]
  },
  {
   "cell_type": "code",
   "execution_count": 1,
   "id": "c34b1ebb-1849-4b6c-bbd4-a66919a78008",
   "metadata": {},
   "outputs": [],
   "source": [
    "# ============================================================\n",
    "#                                                            =\n",
    "#             Title: Basic Data Structures with Polars       =\n",
    "#                              Series                        =\n",
    "#             ---------------------------------              =\n",
    "#                                                            =\n",
    "#             Author: Dr. Saad Laouadi                       =\n",
    "#                                                            =\n",
    "#             Copyright: Dr. Saad Laouadi                    =\n",
    "# ============================================================\n",
    "#                                                            =\n",
    "#                       LICENSE                              =\n",
    "#             ----------------------                         =\n",
    "#                                                            =\n",
    "#             This material is intended for educational      =\n",
    "#             purposes only and may not be used directly in  =\n",
    "#             courses, video recordings, or similar          =\n",
    "#             without prior consent from the author.         =\n",
    "#             When using or referencing this material,       =\n",
    "#             proper credit must be attributed to the        =\n",
    "#             author.                                        =\n",
    "# ============================================================"
   ]
  },
  {
   "cell_type": "markdown",
   "id": "8433e4ea-e8e8-4839-9afa-26750adaf9d2",
   "metadata": {},
   "source": [
    "## Importing Polars "
   ]
  },
  {
   "cell_type": "code",
   "execution_count": 1,
   "id": "bb9f4303-1437-414c-8d35-8418cf9f0d7e",
   "metadata": {
    "tags": []
   },
   "outputs": [],
   "source": [
    "# import polars as pl\n",
    "import polars as pl"
   ]
  },
  {
   "cell_type": "code",
   "execution_count": 2,
   "id": "42fa0cf4-0846-4135-b277-64cb0aa916a3",
   "metadata": {
    "tags": []
   },
   "outputs": [
    {
     "name": "stdout",
     "output_type": "stream",
     "text": [
      "Polars version is: 0.20.2\n"
     ]
    }
   ],
   "source": [
    "# Check polars version\n",
    "print(f\"Polars version is: {pl.__version__}\")"
   ]
  },
  {
   "cell_type": "markdown",
   "id": "692b5b6f-c2b0-4ee5-b23d-26090af142cd",
   "metadata": {},
   "source": [
    "## Show Version with `show_versions()` Method"
   ]
  },
  {
   "cell_type": "code",
   "execution_count": 7,
   "id": "b6907938-d41b-4146-a8e1-5344c8a59def",
   "metadata": {
    "tags": []
   },
   "outputs": [
    {
     "name": "stdout",
     "output_type": "stream",
     "text": [
      "--------Version info---------\n",
      "Polars:               0.20.2\n",
      "Index type:           UInt32\n",
      "Platform:             macOS-13.6.1-x86_64-i386-64bit\n",
      "Python:               3.12.1 | packaged by conda-forge | (main, Dec 23 2023, 08:05:03) [Clang 16.0.6 ]\n",
      "\n",
      "----Optional dependencies----\n",
      "adbc_driver_manager:  <not installed>\n",
      "cloudpickle:          <not installed>\n",
      "connectorx:           <not installed>\n",
      "deltalake:            <not installed>\n",
      "fsspec:               <not installed>\n",
      "gevent:               <not installed>\n",
      "matplotlib:           3.8.2\n",
      "numpy:                1.26.2\n",
      "openpyxl:             3.1.2\n",
      "pandas:               2.1.4\n",
      "pyarrow:              14.0.2\n",
      "pydantic:             2.5.3\n",
      "pyiceberg:            <not installed>\n",
      "pyxlsb:               1.0.10\n",
      "sqlalchemy:           2.0.25\n",
      "xlsx2csv:             0.8.1\n",
      "xlsxwriter:           3.1.9\n"
     ]
    }
   ],
   "source": [
    "# Check polars versions\n",
    "pl.show_versions()"
   ]
  },
  {
   "cell_type": "code",
   "execution_count": null,
   "id": "a0f9c99b-1724-46cc-823a-b5b44723be68",
   "metadata": {},
   "outputs": [],
   "source": []
  }
 ],
 "metadata": {
  "kernelspec": {
   "display_name": "PolarsEnv",
   "language": "python",
   "name": "plenv"
  },
  "language_info": {
   "codemirror_mode": {
    "name": "ipython",
    "version": 3
   },
   "file_extension": ".py",
   "mimetype": "text/x-python",
   "name": "python",
   "nbconvert_exporter": "python",
   "pygments_lexer": "ipython3",
   "version": "3.12.1"
  }
 },
 "nbformat": 4,
 "nbformat_minor": 5
}
